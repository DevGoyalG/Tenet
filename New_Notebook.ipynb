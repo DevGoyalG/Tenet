{
 "cells": [
  {
   "cell_type": "code",
   "execution_count": 35,
   "id": "789d0ed6-8cc7-4c90-a66d-c3625ae72b32",
   "metadata": {},
   "outputs": [],
   "source": [
    "import numpy as np\n",
    "import pandas as pd\n",
    "import matplotlib.pyplot as plt\n",
    "import seaborn as sns"
   ]
  },
  {
   "cell_type": "code",
   "execution_count": 36,
   "id": "565786cd-9666-4265-b141-8dfde755644e",
   "metadata": {},
   "outputs": [
    {
     "name": "stdout",
     "output_type": "stream",
     "text": [
      "Requirement already satisfied: tensorflow in c:\\program files\\drag software\\anaconda\\lib\\site-packages (2.17.0)\n",
      "Requirement already satisfied: opencv-python in c:\\program files\\drag software\\anaconda\\lib\\site-packages (4.10.0.84)\n",
      "Requirement already satisfied: moviepy in c:\\program files\\drag software\\anaconda\\lib\\site-packages (1.0.3)\n",
      "Requirement already satisfied: scikit-learn in c:\\program files\\drag software\\anaconda\\lib\\site-packages (1.4.2)\n",
      "Requirement already satisfied: tensorflow-intel==2.17.0 in c:\\program files\\drag software\\anaconda\\lib\\site-packages (from tensorflow) (2.17.0)\n",
      "Requirement already satisfied: absl-py>=1.0.0 in c:\\program files\\drag software\\anaconda\\lib\\site-packages (from tensorflow-intel==2.17.0->tensorflow) (2.1.0)\n",
      "Requirement already satisfied: astunparse>=1.6.0 in c:\\program files\\drag software\\anaconda\\lib\\site-packages (from tensorflow-intel==2.17.0->tensorflow) (1.6.3)\n",
      "Requirement already satisfied: flatbuffers>=24.3.25 in c:\\program files\\drag software\\anaconda\\lib\\site-packages (from tensorflow-intel==2.17.0->tensorflow) (24.3.25)\n",
      "Requirement already satisfied: gast!=0.5.0,!=0.5.1,!=0.5.2,>=0.2.1 in c:\\program files\\drag software\\anaconda\\lib\\site-packages (from tensorflow-intel==2.17.0->tensorflow) (0.6.0)\n",
      "Requirement already satisfied: google-pasta>=0.1.1 in c:\\program files\\drag software\\anaconda\\lib\\site-packages (from tensorflow-intel==2.17.0->tensorflow) (0.2.0)\n",
      "Requirement already satisfied: h5py>=3.10.0 in c:\\program files\\drag software\\anaconda\\lib\\site-packages (from tensorflow-intel==2.17.0->tensorflow) (3.11.0)\n",
      "Requirement already satisfied: libclang>=13.0.0 in c:\\program files\\drag software\\anaconda\\lib\\site-packages (from tensorflow-intel==2.17.0->tensorflow) (18.1.1)\n",
      "Requirement already satisfied: ml-dtypes<0.5.0,>=0.3.1 in c:\\program files\\drag software\\anaconda\\lib\\site-packages (from tensorflow-intel==2.17.0->tensorflow) (0.4.0)\n",
      "Requirement already satisfied: opt-einsum>=2.3.2 in c:\\program files\\drag software\\anaconda\\lib\\site-packages (from tensorflow-intel==2.17.0->tensorflow) (3.3.0)\n",
      "Requirement already satisfied: packaging in c:\\program files\\drag software\\anaconda\\lib\\site-packages (from tensorflow-intel==2.17.0->tensorflow) (23.2)\n",
      "Requirement already satisfied: protobuf!=4.21.0,!=4.21.1,!=4.21.2,!=4.21.3,!=4.21.4,!=4.21.5,<5.0.0dev,>=3.20.3 in c:\\program files\\drag software\\anaconda\\lib\\site-packages (from tensorflow-intel==2.17.0->tensorflow) (4.25.4)\n",
      "Requirement already satisfied: requests<3,>=2.21.0 in c:\\program files\\drag software\\anaconda\\lib\\site-packages (from tensorflow-intel==2.17.0->tensorflow) (2.32.2)\n",
      "Requirement already satisfied: setuptools in c:\\program files\\drag software\\anaconda\\lib\\site-packages (from tensorflow-intel==2.17.0->tensorflow) (69.5.1)\n",
      "Requirement already satisfied: six>=1.12.0 in c:\\program files\\drag software\\anaconda\\lib\\site-packages (from tensorflow-intel==2.17.0->tensorflow) (1.16.0)\n",
      "Requirement already satisfied: termcolor>=1.1.0 in c:\\program files\\drag software\\anaconda\\lib\\site-packages (from tensorflow-intel==2.17.0->tensorflow) (2.4.0)\n",
      "Requirement already satisfied: typing-extensions>=3.6.6 in c:\\program files\\drag software\\anaconda\\lib\\site-packages (from tensorflow-intel==2.17.0->tensorflow) (4.11.0)\n",
      "Requirement already satisfied: wrapt>=1.11.0 in c:\\program files\\drag software\\anaconda\\lib\\site-packages (from tensorflow-intel==2.17.0->tensorflow) (1.14.1)\n",
      "Requirement already satisfied: grpcio<2.0,>=1.24.3 in c:\\program files\\drag software\\anaconda\\lib\\site-packages (from tensorflow-intel==2.17.0->tensorflow) (1.65.5)\n",
      "Requirement already satisfied: tensorboard<2.18,>=2.17 in c:\\program files\\drag software\\anaconda\\lib\\site-packages (from tensorflow-intel==2.17.0->tensorflow) (2.17.1)\n",
      "Requirement already satisfied: keras>=3.2.0 in c:\\program files\\drag software\\anaconda\\lib\\site-packages (from tensorflow-intel==2.17.0->tensorflow) (3.5.0)\n",
      "Requirement already satisfied: numpy<2.0.0,>=1.26.0 in c:\\program files\\drag software\\anaconda\\lib\\site-packages (from tensorflow-intel==2.17.0->tensorflow) (1.26.4)\n",
      "Requirement already satisfied: decorator<5.0,>=4.0.2 in c:\\program files\\drag software\\anaconda\\lib\\site-packages (from moviepy) (4.4.2)\n",
      "Requirement already satisfied: tqdm<5.0,>=4.11.2 in c:\\program files\\drag software\\anaconda\\lib\\site-packages (from moviepy) (4.66.4)\n",
      "Requirement already satisfied: proglog<=1.0.0 in c:\\program files\\drag software\\anaconda\\lib\\site-packages (from moviepy) (0.1.10)\n",
      "Requirement already satisfied: imageio<3.0,>=2.5 in c:\\program files\\drag software\\anaconda\\lib\\site-packages (from moviepy) (2.33.1)\n",
      "Requirement already satisfied: imageio-ffmpeg>=0.2.0 in c:\\program files\\drag software\\anaconda\\lib\\site-packages (from moviepy) (0.5.1)\n",
      "Requirement already satisfied: scipy>=1.6.0 in c:\\program files\\drag software\\anaconda\\lib\\site-packages (from scikit-learn) (1.13.1)\n",
      "Requirement already satisfied: joblib>=1.2.0 in c:\\program files\\drag software\\anaconda\\lib\\site-packages (from scikit-learn) (1.4.2)\n",
      "Requirement already satisfied: threadpoolctl>=2.0.0 in c:\\program files\\drag software\\anaconda\\lib\\site-packages (from scikit-learn) (2.2.0)\n",
      "Requirement already satisfied: pillow>=8.3.2 in c:\\program files\\drag software\\anaconda\\lib\\site-packages (from imageio<3.0,>=2.5->moviepy) (10.3.0)\n",
      "Requirement already satisfied: charset-normalizer<4,>=2 in c:\\program files\\drag software\\anaconda\\lib\\site-packages (from requests<3,>=2.21.0->tensorflow-intel==2.17.0->tensorflow) (2.0.4)\n",
      "Requirement already satisfied: idna<4,>=2.5 in c:\\program files\\drag software\\anaconda\\lib\\site-packages (from requests<3,>=2.21.0->tensorflow-intel==2.17.0->tensorflow) (3.7)\n",
      "Requirement already satisfied: urllib3<3,>=1.21.1 in c:\\program files\\drag software\\anaconda\\lib\\site-packages (from requests<3,>=2.21.0->tensorflow-intel==2.17.0->tensorflow) (2.2.2)\n",
      "Requirement already satisfied: certifi>=2017.4.17 in c:\\program files\\drag software\\anaconda\\lib\\site-packages (from requests<3,>=2.21.0->tensorflow-intel==2.17.0->tensorflow) (2024.6.2)\n",
      "Requirement already satisfied: colorama in c:\\program files\\drag software\\anaconda\\lib\\site-packages (from tqdm<5.0,>=4.11.2->moviepy) (0.4.6)\n",
      "Requirement already satisfied: wheel<1.0,>=0.23.0 in c:\\program files\\drag software\\anaconda\\lib\\site-packages (from astunparse>=1.6.0->tensorflow-intel==2.17.0->tensorflow) (0.43.0)\n",
      "Requirement already satisfied: rich in c:\\program files\\drag software\\anaconda\\lib\\site-packages (from keras>=3.2.0->tensorflow-intel==2.17.0->tensorflow) (13.3.5)\n",
      "Requirement already satisfied: namex in c:\\program files\\drag software\\anaconda\\lib\\site-packages (from keras>=3.2.0->tensorflow-intel==2.17.0->tensorflow) (0.0.8)\n",
      "Requirement already satisfied: optree in c:\\program files\\drag software\\anaconda\\lib\\site-packages (from keras>=3.2.0->tensorflow-intel==2.17.0->tensorflow) (0.12.1)\n",
      "Requirement already satisfied: markdown>=2.6.8 in c:\\program files\\drag software\\anaconda\\lib\\site-packages (from tensorboard<2.18,>=2.17->tensorflow-intel==2.17.0->tensorflow) (3.4.1)\n",
      "Requirement already satisfied: tensorboard-data-server<0.8.0,>=0.7.0 in c:\\program files\\drag software\\anaconda\\lib\\site-packages (from tensorboard<2.18,>=2.17->tensorflow-intel==2.17.0->tensorflow) (0.7.2)\n",
      "Requirement already satisfied: werkzeug>=1.0.1 in c:\\program files\\drag software\\anaconda\\lib\\site-packages (from tensorboard<2.18,>=2.17->tensorflow-intel==2.17.0->tensorflow) (3.0.3)\n",
      "Requirement already satisfied: MarkupSafe>=2.1.1 in c:\\program files\\drag software\\anaconda\\lib\\site-packages (from werkzeug>=1.0.1->tensorboard<2.18,>=2.17->tensorflow-intel==2.17.0->tensorflow) (2.1.3)\n",
      "Requirement already satisfied: markdown-it-py<3.0.0,>=2.2.0 in c:\\program files\\drag software\\anaconda\\lib\\site-packages (from rich->keras>=3.2.0->tensorflow-intel==2.17.0->tensorflow) (2.2.0)\n",
      "Requirement already satisfied: pygments<3.0.0,>=2.13.0 in c:\\program files\\drag software\\anaconda\\lib\\site-packages (from rich->keras>=3.2.0->tensorflow-intel==2.17.0->tensorflow) (2.15.1)\n",
      "Requirement already satisfied: mdurl~=0.1 in c:\\program files\\drag software\\anaconda\\lib\\site-packages (from markdown-it-py<3.0.0,>=2.2.0->rich->keras>=3.2.0->tensorflow-intel==2.17.0->tensorflow) (0.1.0)\n",
      "Note: you may need to restart the kernel to use updated packages.\n"
     ]
    }
   ],
   "source": [
    "pip install tensorflow opencv-python moviepy scikit-learn"
   ]
  },
  {
   "cell_type": "code",
   "execution_count": 37,
   "id": "83e30c89-13a8-4fab-b6dc-dd7faa7ca5cd",
   "metadata": {},
   "outputs": [],
   "source": [
    "import cv2\n",
    "import os"
   ]
  },
  {
   "cell_type": "code",
   "execution_count": 38,
   "id": "c57be81e-fc9c-4992-a152-ae0aee4bf301",
   "metadata": {},
   "outputs": [],
   "source": [
    "train_dir = r\"C:\\Users\\101ri\\OneDrive\\Desktop\\deep fake detector\\Notebook\\train_sample_videos\""
   ]
  },
  {
   "cell_type": "code",
   "execution_count": 39,
   "id": "2ac80df3-c262-4631-98a5-4bd8d3afb9a8",
   "metadata": {},
   "outputs": [
    {
     "name": "stdout",
     "output_type": "stream",
     "text": [
      "directory found\n"
     ]
    }
   ],
   "source": [
    "if os.path.exists(train_dir):\n",
    "    print(\"directory found\")\n",
    "else:\n",
    "    print(\"not found\")"
   ]
  },
  {
   "cell_type": "code",
   "execution_count": 40,
   "id": "f2bde73c-061c-47b2-8cf8-4bb255c6c19d",
   "metadata": {},
   "outputs": [
    {
     "name": "stdout",
     "output_type": "stream",
     "text": [
      "training videos: ['aagfhgtpmv.mp4', 'aagfhgtpmv.wav', 'aapnvogymq.mp4', 'aassnaulhq.mp4', 'aayfryxljh.mp4', 'abarnvbtwb.mp4', 'abofeumbvv.mp4', 'abqwwspghj.mp4', 'acazlolrpz.mp4', 'acifjvzvpm.mp4', 'acqfdwsrhi.mp4', 'acxnxvbsxk.mp4', 'acxwigylke.mp4', 'aczrgyricp.mp4', 'adhsbajydo.mp4', 'adohdulfwb.mp4', 'adohikbdaz.mp4', 'adylbeequz.mp4', 'aelfnikyqj.mp4', 'aelzhcnwgf.mp4', 'aettqgevhz.mp4', 'aevrfsexku.mp4', 'afoovlsmtx.mp4', 'agdkmztvby.mp4', 'agqphdxmwt.mp4', 'agrmhtjdlk.mp4', 'ahbweevwpv.mp4', 'ahdbuwqxit.mp4', 'ahfazfbntc.mp4', 'ahjnxtiamx.mp4', 'ahqqqilsxt.mp4', 'aipfdnwpoo.mp4', 'ajiyrjfyzp.mp4', 'ajqslcypsw.mp4', 'ajwpjhrbcv.mp4', 'aklqzsddfl.mp4', 'aknbdpmgua.mp4', 'aknmpoonls.mp4', 'aktnlyqpah.mp4', 'akvmwkdyuv.mp4', 'akxoopqjqz.mp4', 'akzbnazxtz.mp4', 'aladcziidp.mp4', 'alaijyygdv.mp4', 'alninxcyhg.mp4', 'alrtntfxtd.mp4', 'altziddtxi.mp4', 'alvgwypubw.mp4', 'amaivqofda.mp4', 'amowujxmzc.mp4', 'andaxzscny.mp4', 'aneclqfpbt.mp4', 'anpuvshzoo.mp4', 'aomqqjipcp.mp4', 'aorjvbyxhw.mp4', 'apatcsqejh.mp4', 'apedduehoy.mp4', 'apgjqzkoma.mp4', 'apogckdfrz.mp4', 'apvzjkvnwn.mp4', 'aqpnvjhuzw.mp4', 'aqrsylrzgi.mp4', 'arkroixhey.mp4', 'arlmiizoob.mp4', 'arrhsnjqku.mp4', 'asaxgevnnp.mp4', 'asdpeebotb.mp4', 'aslsvlvpth.mp4', 'asmpfjfzif.mp4', 'asvcrfdpnq.mp4', 'atkdltyyen.mp4', 'atvmxvwyns.mp4', 'atxvxouljq.mp4', 'atyntldecu.mp4', 'atzdznmder.mp4', 'aufmsmnoye.mp4', 'augtsuxpzc.mp4', 'avfitoutyn.mp4', 'avgiuextiz.mp4', 'avibnnhwhp.mp4', 'avmjormvsx.mp4', 'avnqydkqjj.mp4', 'avssvvsdhz.mp4', 'avtycwsgyb.mp4', 'avvdgsennp.mp4', 'avywawptfc.mp4', 'awhmfnnjih.mp4', 'awnwkrqibf.mp4', 'awukslzjra.mp4', 'axczxisdtb.mp4', 'axfhbpkdlc.mp4', 'axntxmycwd.mp4', 'axoygtekut.mp4', 'axwgcsyphv.mp4', 'axwovszumc.mp4', 'aybgughjxh.mp4', 'aybumesmpk.mp4', 'ayipraspbn.mp4', 'ayqvfdhslr.mp4', 'aytzyidmgs.mp4', 'azpuxunqyo.mp4', 'azsmewqghg.mp4', 'bahdpoesir.mp4', 'bbhpvrmbse.mp4', 'bbhtdfuqxq.mp4', 'bbvgxeczei.mp4', 'bcbqxhziqz.mp4', 'bchnbulevv.mp4', 'bctvsmddgq.mp4', 'bcvheslzrq.mp4', 'bdbhekrrwo.mp4', 'bddjdhzfze.mp4', 'bdgipnyobr.mp4', 'bdnaqemxmr.mp4', 'bdshuoldwx.mp4', 'bdxuhamuqx.mp4', 'beboztfcme.mp4', 'bejhvclboh.mp4', 'benmsfzfaz.mp4', 'beyebyhrph.mp4', 'bfdopzvxbi.mp4', 'bffwsjxghk.mp4', 'bfjsthfhbd.mp4', 'bgaogsjehq.mp4', 'bggsurpgpr.mp4', 'bghphrsfxf.mp4', 'bgmlwsoamc.mp4', 'bguwlyazau.mp4', 'bgvhtpzknn.mp4', 'bgwmmujlmc.mp4', 'bhaaboftbc.mp4', 'bhbdugnurr.mp4', 'bhpwpydzpo.mp4', 'bhsluedavd.mp4', 'bilnggbxgu.mp4', 'bjjbwsqjir.mp4', 'bjkmjilrxp.mp4', 'bjsmaqefoi.mp4', 'bjyaxvggle.mp4', 'bkcyglmfci.mp4', 'bkmdzhfzfh.mp4', 'bktkwbcawi.mp4', 'bkuzquigyt.mp4', 'bkvetcojbt.mp4', 'bkwxhglwct.mp4', 'blnmxntbey.mp4', 'blpchvmhxx.mp4', 'blszgmxkvu.mp4', 'blzydqdfem.mp4', 'bmbbkwmxqj.mp4', 'bmehkyanbj.mp4', 'bmhvktyiwp.mp4', 'bmioepcpsx.mp4', 'bmjmjmbglm.mp4', 'bmjzrlszhi.mp4', 'bnbuonyoje.mp4', 'bndybcqhfr.mp4', 'bnjcdrfuov.mp4', 'bntlodcfeg.mp4', 'bnuwxhfahw.mp4', 'bofqajtwve.mp4', 'bofrwgeyjo.mp4', 'boovltmuwi.mp4', 'bopqhhalml.mp4', 'bourlmzsio.mp4', 'bpapbctoao.mp4', 'bpwzipqtxf.mp4', 'bpxckdzddv.mp4', 'bqdjzqhcft.mp4', 'bqeiblbxtl.mp4', 'bqhtpqmmqp.mp4', 'bqkdbcqjvb.mp4', 'bqnymlsayl.mp4', 'bqqpbzjgup.mp4', 'bqtuuwzdtr.mp4', 'brhalypwoo.mp4', 'brvqtabyxj.mp4', 'brwrlczjvi.mp4', 'bseamdrpbj.mp4', 'bsfmwclnqy.mp4', 'bsqgziaylx.mp4', 'btdxnajogv.mp4', 'btiysiskpf.mp4', 'btjlfpzbdu.mp4', 'btjwbtsgln.mp4', 'btmsngnqhv.mp4', 'btohlidmru.mp4', 'btugrnoton.mp4', 'btunxncpjh.mp4', 'btxlttbpkj.mp4', 'bulkxhhknf.mp4', 'bvgwelbeof.mp4', 'bvpeerislp.mp4', 'bvzjkezkms.mp4', 'bwdmzwhdnw.mp4', 'bweezhfpzp.mp4', 'bwhlgysghg.mp4', 'bwipwzzxxu.mp4', 'bwuwstvsbw.mp4', 'bxzakyopjf.mp4', 'bydaidkpdp.mp4', 'byfenovjnf.mp4', 'byijojkdba.mp4', 'byofowlkki.mp4', 'byqzyxifza.mp4', 'byunigvnay.mp4', 'byyqectxqa.mp4', 'bzmdrafeex.mp4', 'bzvzpwrabw.mp4', 'bzythlfnhq.mp4', 'caifxvsozs.mp4', 'caqbrkogkb.mp4', 'cbbibzcoih.mp4', 'cbltdtxglo.mp4', 'ccfoszqabv.mp4', 'ccmonzqfrz.mp4', 'cdaxixbosp.mp4', 'cdbsbdymzd.mp4', 'cdphtzqrvp.mp4', 'cdyakrxkia.mp4', 'cekarydqba.mp4', 'cekwtyxdoo.mp4', 'cepxysienc.mp4', 'cettndmvzl.mp4', 'ceymbecxnj.mp4', 'cferslmfwh.mp4', 'cffffbcywc.mp4', 'cfxkpiweqt.mp4', 'cfyduhpbps.mp4', 'cglxirfaey.mp4', 'cgvrgibpfo.mp4', 'chtapglbcj.mp4', 'chviwxsfhg.mp4', 'chzieimrwu.mp4', 'ciyoudyhly.mp4', 'cizlkenljw.mp4', 'cjkctqqakb.mp4', 'ckbdwedgmc.mp4', 'ckjaibzfxa.mp4', 'ckkuyewywx.mp4', 'cknyxaqouy.mp4', 'cksanfsjhc.mp4', 'clihsshdkq.mp4', 'clrycekyst.mp4', 'cmbzllswnl.mp4', 'cmxcfkrjiv.mp4', 'cnilkgvfei.mp4', 'cnpanmywno.mp4', 'cnxccbjlct.mp4', 'coadfnerlk.mp4', 'cobjrlugvp.mp4', 'coqwgzpbhx.mp4', 'cosghhimnd.mp4', 'coujjnypba.mp4', 'covdcysmbi.mp4', 'cpjxareypw.mp4', 'cppdvdejkc.mp4', 'cprhtltsjp.mp4', 'cqfugiqupm.mp4', 'cqhngvpgyi.mp4', 'cqhwesrciw.mp4', 'cqrskwiqng.mp4', 'cqxxumarvp.mp4', 'crezycjqyk.mp4', 'crktehraph.mp4', 'crzfebnfgb.mp4', 'csnkohqxdv.mp4', 'cthdnahrkh.mp4', 'ctpqeykqdp.mp4', 'cttqtsjvgn.mp4', 'ctzmavwror.mp4', 'curpwogllm.mp4', 'cuzrgrbvil.mp4', 'cvaksbpssm.mp4', 'cwbacdwrzo.mp4', 'cwqlvzefpg.mp4', 'cwrtyzndpx.mp4', 'cwsbspfzck.mp4', 'cwwandrkus.mp4', 'cxfujlvsuw.mp4', 'cxrfacemmq.mp4', 'cxsvvnxpyz.mp4', 'cxttmymlbn.mp4', 'cyboodqqyr.mp4', 'cycacemkmt.mp4', 'cyclgfjdrv.mp4', 'cyxlcuyznd.mp4', 'czfqlbcfpa.mp4', 'czfunozvwp.mp4', 'czkdanyadc.mp4', 'czmqpxrqoh.mp4', 'dafhtipaml.mp4', 'dakiztgtnw.mp4', 'dakqwktlbi.mp4', 'dbhoxkblzx.mp4', 'dbhrpizyeq.mp4', 'dbnygxtwek.mp4', 'dboxtiehng.mp4', 'dbtbbhakdv.mp4', 'dbzcqmxzaj.mp4', 'dbzpcjntve.mp4', 'dcamvmuors.mp4', 'dcqodpzomd.mp4', 'dcuiiorugd.mp4', 'ddepeddixj.mp4', 'ddhfabwpuz.mp4', 'ddjggcasdw.mp4', 'ddpvuimigj.mp4', 'ddqccgmtka.mp4', 'ddtbarpcgo.mp4', 'degpbqvcay.mp4', 'demuhxssgl.mp4', 'deywhkarol.mp4', 'deyyistcrd.mp4', 'dfbpceeaox.mp4', 'dgmevclvzy.mp4', 'dgxrqjdomn.mp4', 'dgzklxjmix.mp4', 'dhcndnuwta.mp4', 'dhcselezer.mp4', 'dhevettufk.mp4', 'dhjmzhrcav.mp4', 'dhkwmjxwrn.mp4', 'dhoqofwoxa.mp4', 'dhxctgyoqj.mp4', 'didzujjhtg.mp4', 'diomeixhrg.mp4', 'diopzaywor.mp4', 'diqraixiov.mp4', 'diuzrpqjli.mp4', 'djvtbgwdcc.mp4', 'djvutyvaio.mp4', 'djxdyjopjd.mp4', 'dkdwxmtpuo.mp4', 'dkhlttuvmx.mp4', 'dkrvorliqc.mp4', 'dkuayagnmc.mp4', 'dkuqbduxev.mp4', 'dkwjwbwgey.mp4', 'dkzvdrzcnr.mp4', 'dlpoieqvfb.mp4', 'dlrsbscitn.mp4', 'dmmvuaikkv.mp4', 'dnexlwbcxq.mp4', 'dnhvalzvrt.mp4', 'dnmowthjcj.mp4', 'dntkzzzcdh.mp4', 'dnyvfblxpm.mp4', 'doanjploai.mp4', 'dofusvhnib.mp4', 'doniqevxeg.mp4', 'dozjwhnedd.mp4', 'dozyddhild.mp4', 'dpevefkefv.mp4', 'dpmgoiwhuf.mp4', 'dptbnjnkdg.mp4', 'dptrzdvwpg.mp4', 'dqnyszdong.mp4', 'dqppxmoqdl.mp4', 'dqqtjcryjv.mp4', 'dqswpjoepo.mp4', 'dqzreruvje.mp4', 'drcyabprvt.mp4', 'drgjzlxzxj.mp4', 'drsakwyvqv.mp4', 'drtbksnpol.mp4', 'dsdoseflas.mp4', 'dsgpbgsrdm.mp4', 'dsjbknkujw.mp4', 'dsndhujjjb.mp4', 'dsnxgrfdmd.mp4', 'dtbpmdqvao.mp4', 'dtocdfbwca.mp4', 'dtozwcapoa.mp4', 'dubiroskqn.mp4', 'dulanfulol.mp4', 'duvyaxbzvp.mp4', 'duycddgtrl.mp4', 'duzuusuajr.mp4', 'dvakowbgbt.mp4', 'dvkdfhrpph.mp4', 'dvtpwatuja.mp4', 'dvumqqhoac.mp4', 'dvwpvqdflx.mp4', 'dwediigjit.mp4', 'dxbqjxrhin.mp4', 'dxfdovivlw.mp4', 'dxgnpnowgk.mp4', 'dxuliowugt.mp4', 'dxuplhwvig.mp4', 'dyjklprkoc.mp4', 'dzieklokdr.mp4', 'dzkyxbbqkr.mp4', 'dzojiwfvba.mp4', 'dzqwgqewhu.mp4', 'dzvyfiarrq.mp4', 'dzwkmcwkwl.mp4', 'dzyuwjkjui.mp4', 'eahlqmfvtj.mp4', 'eajlrktemq.mp4', 'ebchwmwayp.mp4', 'ebebgmtlcu.mp4', 'ebeknhudxq.mp4', 'ebkzwjgjhq.mp4', 'ebywfrmhtd.mp4', 'eckvhdusax.mp4', 'ecnihjlfyt.mp4', 'ecujsjhscd.mp4', 'ecumyiowzs.mp4', 'ecuvtoltue.mp4', 'ecwaxgutkc.mp4', 'eczrseixwq.mp4', 'edyncaijwx.mp4', 'eebrkicpry.mp4', 'eebserckhh.mp4', 'eejswgycjc.mp4', 'eekozbeafq.mp4', 'eepezmygaq.mp4', 'eeyhxisdfh.mp4', 'efdyrflcpg.mp4', 'efwfxwwlbw.mp4', 'egbbcxcuqy.mp4', 'eggbjzxnmg.mp4', 'egghxjjmfg.mp4', 'ehbnclaukr.mp4', 'ehccixxzoe.mp4', 'ehdkmxgtxh.mp4', 'ehevsxtecd.mp4', 'ehfiekigla.mp4', 'ehieahnhte.mp4', 'ehtdtkmmli.mp4', 'eiriyukqqy.mp4', 'eisofhptvk.mp4', 'eivxffliio.mp4', 'eiwopxzjfn.mp4', 'eixwxvxbbn.mp4', 'ejkqesyvam.mp4', 'ekboxwrwuv.mp4', 'ekcrtigpab.mp4', 'ekelfsnqof.mp4', 'ekhacizpah.mp4', 'ekkdjkirzq.mp4', 'ekvwecwltj.mp4', 'elackxuccp.mp4', 'elginszwtk.mp4', 'ellavthztb.mp4', 'elvvackpjh.mp4', 'emaalmsonj.mp4', 'emfbhytfhc.mp4', 'emgjphonqb.mp4', 'ensyyivobf.mp4', 'eoewqcpbgt.mp4', 'eppyqpgewp.mp4', 'eprybmbpba.mp4', 'epymyyiblu.mp4', 'eqjscdagiv.mp4', 'eqnoqyfquo.mp4', 'eqslzbqfea.mp4', 'eqvuznuwsa.mp4', 'erlvuvjsjf.mp4', 'erqgqacbqe.mp4', 'errocgcham.mp4', 'eryjktdexi.mp4', 'esckbnkkvb.mp4', 'esgftaficx.mp4', 'esjdyghhog.mp4', 'esmqxszybs.mp4', 'esnntzzajv.mp4', 'espkiocpxq.mp4', 'esxrvsgpvb.mp4', 'esyhwdfnxs.mp4', 'esyrimvzsa.mp4', 'etdcqxabww.mp4', 'etdliwticv.mp4', 'etejaapnxh.mp4', 'etmcruaihe.mp4', 'etohcvnzbj.mp4', 'eudeqjhdfd.mp4', 'eukvucdetx.mp4', 'evysmtpnrf.mp4', 'eyguqfmgzh.mp4', 'eywdmustbb.mp4', 'famlupsgqm.mp4', 'fddmkqjwsh.mp4', 'fjrueenjyp.mp4', 'fjxovgmwnm.mp4', 'fmhiujydwo.mp4', 'fmvvmcbdrw.mp4', 'fneqiqpqvs.mp4', 'fnxgqcvlsd.mp4', 'fopjiyxiqd.mp4', 'fpevfidstw.mp4', 'fqgypsunzr.mp4', 'frqfsucgao.mp4', 'fsdrwikhge.mp4', 'fwykevubzy.mp4', 'fxuxxtryjn.mp4', 'fzvpbrzssi.mp4', 'gahgyuwzbu.mp4', 'gbnzicjyhz.mp4', 'gccnvdoknm.mp4', 'gcdtglsoqj.mp4', 'gfcycflhbo.mp4', 'gfdjzwnpyp.mp4', 'gfgcwxkbjd.mp4', 'ggdpclfcgk.mp4', 'ggzjfrirjh.mp4', 'ghnpsltzyn.mp4', 'gkutjglghz.mp4', 'gochxzemmq.mp4', 'gpsxfxrjrr.mp4', 'gqnaxievjx.mp4', 'gunamloolc.mp4', 'halvwiltfs.mp4', 'hbufmvbium.mp4', 'hcanfkwivl.mp4', 'hclsparpth.mp4', 'hefisnapds.mp4', 'heiyoojifp.mp4', 'hevcclcklc.mp4', 'hfsvqabzfq.mp4', 'hicjuubiau.mp4', 'hierggamuo.mp4', 'hitfycdavv.mp4', 'hnfwagcxdf.mp4', 'honxqdilvv.mp4', 'hqzwudvhih.mp4', 'hsbljbsgxr.mp4', 'hsbwhlolsn.mp4', 'hszwwswewp.mp4', 'htzbnroagi.mp4', 'huvlwkxoxm.mp4', 'hweshqpfwe.mp4', 'hxwtsaydal.mp4', 'hyjqolupxn.mp4', 'hzoiotcykp.mp4', 'hzssdinxec.mp4', 'ibxfxggtqh.mp4', 'icbsahlivv.mp4', 'igpvrfjdzc.mp4', 'ihglzxzroo.mp4', 'iksxzpqxzi.mp4', 'ilqwcbprqa.mp4', 'imdmhwkkni.mp4', 'iorbtaarte.mp4', 'ipkpxvwroe.mp4', 'ipvwtgdlre.mp4', 'irqzdokcws.mp4', 'itfsvvmslp.mp4', 'iznnzjvaxc.mp4', 'jawgcggquk.mp4', 'jhczqfefgw.mp4', 'jiavqbrkyk.mp4', 'jiswxuqzyz.mp4', 'jquevmhdvc.mp4', 'jsbpkpxwew.mp4', 'jsysgmycsx.mp4', 'jyfvaequfg.mp4', 'jyoxdvxpza.mp4', 'jytrvwlewz.mp4', 'jzmzdispyo.mp4', 'kcjvhgvhpt.mp4', 'keioymnobc.mp4', 'kezwvsxxzj.mp4', 'khpipxnsvx.mp4', 'kmcdjxmnoa.mp4', 'kmqkiihrmj.mp4', 'knxltsvzyu.mp4', 'kowiwvrjht.mp4', 'kqlvggiqee.mp4', 'kvmpmhdxly.mp4', 'kwfdyqofzw.mp4', 'lbfqksftuo.mp4', 'lbigytrrtr.mp4', 'lebzjtusnr.mp4', 'lhvjzhjxdp.mp4', 'ljauauuyka.mp4', 'ljouzjaqqe.mp4', 'llplvmcvbl.mp4', 'lmdyicksrv.mp4', 'lnhkjhyhvw.mp4', 'lnjkpdviqb.mp4', 'lpgxwdgnio.mp4', 'lpkgabskbw.mp4', 'lujvyveojc.mp4', 'lyoslorecs.mp4', 'mdfndlljvt.mp4', 'metadata.json', 'mkmgcxaztt.mp4', 'mkzaekkvej.mp4', 'mllzkpgatp.mp4', 'mnowxangqx.mp4', 'mnzabbkpmt.mp4', 'mohiqoogpb.mp4', 'mszblrdprw.mp4', 'mwnibuujwz.mp4', 'mwwploizlj.mp4', 'mxahsihabr.mp4', 'mxlipjhmqk.mp4', 'ncmpqwmnzb.mp4', 'ncoeewrdlo.mp4', 'ndikguxzek.mp4', 'nikynwcvuh.mp4', 'njzshtfmcw.mp4', 'nkhzxomani.mp4', 'novarhxpbj.mp4', 'nplviymzlg.mp4', 'nswtvttxre.mp4', 'nthpnwylxo.mp4', 'nwvloufjty.mp4', 'nwvsbmyndn.mp4', 'nxgzmgzkfv.mp4', 'nxnmkytwze.mp4', 'nxzgekegsp.mp4', 'nycmyuzpml.mp4', 'nymodlmxni.mp4', 'oaguiggjyv.mp4', 'ocgdbrgmtq.mp4', 'oefukgnvel.mp4', 'oelqpetgwj.mp4', 'ojsxxkalat.mp4', 'okgelildpc.mp4', 'omphqltjdd.mp4', 'ooafcxxfrs.mp4', 'oocincvedt.mp4', 'oojxonbgow.mp4', 'opvqdabdap.mp4', 'orekjthsef.mp4', 'orixbcfvdz.mp4', 'ouaowjmigq.mp4', 'owaogcehvc.mp4', 'oyqgwjdwaj.mp4', 'oysopgovhu.mp4', 'papagllumt.mp4', 'pcoxcmtroa.mp4', 'pcyswtgick.mp4', 'pdswwyyntw.mp4', 'pdufsewrec.mp4', 'petmyhjclt.mp4', 'phjvutxpoi.mp4', 'pqdeutauqc.mp4', 'pqthmvwonf.mp4', 'prhmixykhr.mp4', 'prwsfljdjo.mp4', 'psesikjaxx.mp4', 'ptbfnkajyi.mp4', 'ptbnewtvon.mp4', 'pxcfrszlgi.mp4', 'pxjkzvqomp.mp4', 'qarqtkvgby.mp4', 'qcbkztamqc.mp4', 'qclpbcbgeq.mp4', 'qdqdsaiitt.mp4', 'qhkzlnzruj.mp4', 'qhsehzgxqj.mp4', 'qlqhjcshpk.mp4', 'qlvsqdroqo.mp4', 'qooxnxqqjb.mp4', 'qqnlrngaft.mp4', 'qsjiypnjwi.mp4', 'qswlzfgcgj.mp4', 'qxyrtwozyw.mp4', 'qyyhuvqmyf.mp4', 'rcecrgeotc.mp4', 'rcjfxxhcal.mp4', 'rerpivllud.mp4', 'rfjuhbnlro.mp4', 'rfwxcinshk.mp4', 'rklawjhbpv.mp4', 'rktrpsdlci.mp4', 'rmlzgerevr.mp4', 'rmufsuogzn.mp4', 'rnfcjxynfa.mp4', 'rrrfjhugvb.mp4', 'rtpbawlmxr.mp4', 'ruhtnngrqv.mp4', 'rukyxomwcx.mp4', 'rvvpazsffd.mp4', 'rxdoimqble.mp4', 'ryxaqpfubf.mp4', 'scbdenmaed.mp4', 'scrbqgpvzz.mp4', 'sfsayjgzrh.mp4', 'shnsajrsow.mp4', 'siebfpwuhu.mp4', 'sjinmmbipg.mp4', 'sjkfxrlxxs.mp4', 'sjwywglgym.mp4', 'sktpeppbkc.mp4', 'sngjsueuhs.mp4', 'snlyjbnpgw.mp4', 'sodvtfqbpf.mp4', 'sqixhnilfm.mp4', 'srfefmyjvt.mp4', 'sufvvwmbha.mp4', 'swsaoktwgi.mp4', 'sylnrepacf.mp4', 'syuxttuyhm.mp4', 'syxobtuucp.mp4', 'sznkemeqro.mp4', 'tejfudfgpq.mp4', 'temeqbmzxu.mp4', 'temjefwaas.mp4', 'tgawasvbbr.mp4', 'tjuihawuqm.mp4', 'tjywwgftmv.mp4', 'toinozytsp.mp4', 'tvhjcfnqtg.mp4', 'txmnoyiyte.mp4', 'txnmkabufs.mp4', 'tyjpjpglgx.mp4', 'tynfsthodx.mp4', 'ucthmsajay.mp4', 'udxqbhgvvx.mp4', 'uhakqelqri.mp4', 'uhrqlmlclw.mp4', 'uoccaiathd.mp4', 'upmgtackuf.mp4', 'uqvxjfpwdo.mp4', 'usqqvxcjmg.mp4', 'uubgqnvfdl.mp4', 'uvrzaczrbx.mp4', 'uxuvkrjhws.mp4', 'vajkicalux.mp4', 'vbcgoyxsvn.mp4', 'vdtsbqidjb.mp4', 'vhbbwdflyh.mp4', 'viteugozpv.mp4', 'vizerpsvbz.mp4', 'vjljdfopjg.mp4', 'vmxfwxgdei.mp4', 'vnlzxqwthl.mp4', 'voawxrmqyl.mp4', 'vokrpfjpeb.mp4', 'vssmlqoiti.mp4', 'vtunvalyji.mp4', 'vurjckblge.mp4', 'vvfszaosiv.mp4', 'vwxednhlwz.mp4', 'wadvzjhwtw.mp4', 'waucvvmtkq.mp4', 'wclvkepakb.mp4', 'wcqvzujamg.mp4', 'wcssbghcpc.mp4', 'wcvsqnplsk.mp4', 'wfzjxzhdkj.mp4', 'wixbuuzygv.mp4', 'wjhpisoeaj.mp4', 'wmoqzxddkb.mp4', 'wndursivcx.mp4', 'wnlubukrki.mp4', 'wqysrieiqu.mp4', 'wvgviwnwob.mp4', 'wynotylpnm.mp4', 'xcruhaccxc.mp4', 'xdezcezszc.mp4', 'xhtppuyqdr.mp4', 'xitgdpzbxv.mp4', 'xjvxtuakyd.mp4', 'xljemofssi.mp4', 'xmkwsnuzyq.mp4', 'xphdfgmfmz.mp4', 'xrtvqhdibb.mp4', 'xugmhbetrw.mp4', 'xxzefxwyku.mp4', 'yarpxfqejd.mp4', 'yaxgpxhavq.mp4', 'ybbrkacebd.mp4', 'yhjlnisfel.mp4', 'yhylappzid.mp4', 'yietrwuncf.mp4', 'yiykshcbaz.mp4', 'yljecirelf.mp4', 'yllztsrwjw.mp4', 'ylxwcwhjjd.mp4', 'yoyhmxtrys.mp4', 'ypbtpunjvm.mp4', 'yqhouqakbx.mp4', 'yronlutbgm.mp4', 'ystdtnetgj.mp4', 'ytddugrwph.mp4', 'ytopzxrswu.mp4', 'ywauoonmlr.mp4', 'ywxpquomgt.mp4', 'yxadevzohx.mp4', 'yxirnfyijn.mp4', 'yxvmusxvcz.mp4', 'yzuestxcbq.mp4', 'zbgssotnjm.mp4', 'zcxcmneefk.mp4', 'zfobicuigx.mp4', 'zfrrixsimm.mp4', 'zgbhzkditd.mp4', 'zgjosltkie.mp4', 'ziipxxchai.mp4', 'zmxeiipnqb.mp4', 'ztyuiqrhdk.mp4', 'ztyvglkcsf.mp4', 'zuwwbbusgl.mp4', 'zxacihctqp.mp4', 'zyufpqvpyu.mp4', 'zzmgnglanj.mp4']\n"
     ]
    }
   ],
   "source": [
    "train_videos = os.listdir(train_dir)\n",
    "print(\"training videos:\", train_videos)"
   ]
  },
  {
   "cell_type": "code",
   "execution_count": null,
   "id": "fbf64b50-fd7d-4a3c-86b5-a7401cf291ca",
   "metadata": {},
   "outputs": [],
   "source": []
  },
  {
   "cell_type": "code",
   "execution_count": null,
   "id": "b0856167-10b8-4cd5-b2bc-332a1be66299",
   "metadata": {},
   "outputs": [],
   "source": []
  },
  {
   "cell_type": "code",
   "execution_count": null,
   "id": "544ae995-30a3-4cd7-a4f3-c685229d0ac2",
   "metadata": {},
   "outputs": [],
   "source": []
  },
  {
   "cell_type": "code",
   "execution_count": null,
   "id": "d95de0c7-dfe9-407f-abde-e4cbf75a5ef3",
   "metadata": {},
   "outputs": [],
   "source": []
  },
  {
   "cell_type": "code",
   "execution_count": null,
   "id": "e6d890d5-afad-4dde-9937-2838670f38ec",
   "metadata": {},
   "outputs": [],
   "source": []
  },
  {
   "cell_type": "code",
   "execution_count": null,
   "id": "9c874037-36ae-456f-9b4d-3d3d6b9d9946",
   "metadata": {},
   "outputs": [],
   "source": []
  },
  {
   "cell_type": "code",
   "execution_count": null,
   "id": "3562fe9e-f12a-4618-afc8-0b8dfd2d50c4",
   "metadata": {},
   "outputs": [],
   "source": []
  },
  {
   "cell_type": "code",
   "execution_count": null,
   "id": "0de8305e-f9d3-40cb-89f4-06393ac762b1",
   "metadata": {},
   "outputs": [],
   "source": []
  },
  {
   "cell_type": "code",
   "execution_count": null,
   "id": "b8d83f69-0164-41fb-8546-67def321b1f4",
   "metadata": {},
   "outputs": [],
   "source": []
  },
  {
   "cell_type": "code",
   "execution_count": null,
   "id": "fb5618e2-61fc-4aec-b606-2e500c5c392f",
   "metadata": {},
   "outputs": [],
   "source": []
  },
  {
   "cell_type": "code",
   "execution_count": null,
   "id": "aabbc3c3-54ad-436b-acba-8eeff04c7048",
   "metadata": {},
   "outputs": [],
   "source": []
  },
  {
   "cell_type": "code",
   "execution_count": null,
   "id": "de798e56-c7fd-4b62-bf08-7e87e09ba352",
   "metadata": {},
   "outputs": [],
   "source": []
  },
  {
   "cell_type": "code",
   "execution_count": null,
   "id": "400afdaa-d60e-45e6-9142-fe40abb5d567",
   "metadata": {},
   "outputs": [],
   "source": []
  },
  {
   "cell_type": "code",
   "execution_count": null,
   "id": "686dc56d-00f6-45e8-b0d3-1f2a4657cfd7",
   "metadata": {},
   "outputs": [],
   "source": []
  },
  {
   "cell_type": "code",
   "execution_count": null,
   "id": "341ce2f3-c167-4f4f-8ee7-c05fa3d15c82",
   "metadata": {},
   "outputs": [],
   "source": []
  },
  {
   "cell_type": "code",
   "execution_count": null,
   "id": "dc612b5d-744c-4b72-8be3-2eeb2f2a635c",
   "metadata": {},
   "outputs": [],
   "source": []
  },
  {
   "cell_type": "code",
   "execution_count": null,
   "id": "5b754b65-66e9-416b-ad00-e1591c6141b3",
   "metadata": {},
   "outputs": [],
   "source": []
  },
  {
   "cell_type": "code",
   "execution_count": null,
   "id": "22203f3e-43d4-4f8b-badf-ec6c1f43c767",
   "metadata": {},
   "outputs": [],
   "source": []
  },
  {
   "cell_type": "code",
   "execution_count": null,
   "id": "9571973f-903a-4193-9e47-2764715e8240",
   "metadata": {},
   "outputs": [],
   "source": []
  },
  {
   "cell_type": "code",
   "execution_count": null,
   "id": "8ec2eddf-c009-4986-8ddf-b648b4f10526",
   "metadata": {},
   "outputs": [],
   "source": []
  },
  {
   "cell_type": "code",
   "execution_count": null,
   "id": "ef7ab40b-df3a-4400-91ff-d4f0ea648dc6",
   "metadata": {},
   "outputs": [],
   "source": []
  },
  {
   "cell_type": "code",
   "execution_count": null,
   "id": "dea553fd-3661-494d-8886-cee341fa32fb",
   "metadata": {},
   "outputs": [],
   "source": []
  },
  {
   "cell_type": "code",
   "execution_count": null,
   "id": "287e1446-1111-4cbc-b463-dad5449e6e8c",
   "metadata": {},
   "outputs": [],
   "source": []
  },
  {
   "cell_type": "code",
   "execution_count": null,
   "id": "00ded1c2-7cad-4715-8560-ceb68695af56",
   "metadata": {},
   "outputs": [],
   "source": []
  },
  {
   "cell_type": "code",
   "execution_count": null,
   "id": "a96ad318-c30e-4687-9043-458573ef3244",
   "metadata": {},
   "outputs": [],
   "source": []
  },
  {
   "cell_type": "code",
   "execution_count": null,
   "id": "b6b7ca31-e6fd-4a36-b784-905cc28760f2",
   "metadata": {},
   "outputs": [],
   "source": []
  },
  {
   "cell_type": "code",
   "execution_count": null,
   "id": "e4b20d15-63ef-41db-b837-f57e1a59b31f",
   "metadata": {},
   "outputs": [],
   "source": []
  },
  {
   "cell_type": "code",
   "execution_count": null,
   "id": "fe38363d-4dbc-463b-b080-d0adbf60bf1d",
   "metadata": {},
   "outputs": [],
   "source": []
  },
  {
   "cell_type": "code",
   "execution_count": null,
   "id": "fdec9fb2-9228-4ea9-b1f5-b73daa434cd4",
   "metadata": {},
   "outputs": [],
   "source": []
  },
  {
   "cell_type": "code",
   "execution_count": null,
   "id": "bc04db8d-f0d2-4605-babe-3004f1bc4def",
   "metadata": {},
   "outputs": [],
   "source": []
  },
  {
   "cell_type": "code",
   "execution_count": null,
   "id": "6990cff2-c8f3-437f-b508-b4868d19e8c3",
   "metadata": {},
   "outputs": [],
   "source": []
  },
  {
   "cell_type": "code",
   "execution_count": null,
   "id": "19ac519b-b161-404e-9172-55b50fcc6568",
   "metadata": {},
   "outputs": [],
   "source": []
  },
  {
   "cell_type": "code",
   "execution_count": null,
   "id": "7f311075-b424-41e8-a0b9-54479f8a2443",
   "metadata": {},
   "outputs": [],
   "source": []
  },
  {
   "cell_type": "code",
   "execution_count": null,
   "id": "3dc8d97d-53e9-43ad-9f81-abb030d42eef",
   "metadata": {},
   "outputs": [],
   "source": []
  },
  {
   "cell_type": "code",
   "execution_count": null,
   "id": "8b89f5b0-5cfa-48ee-833e-c3add41b8b5e",
   "metadata": {},
   "outputs": [],
   "source": []
  },
  {
   "cell_type": "code",
   "execution_count": null,
   "id": "4ebac7f0-be79-43df-87a5-eb81ffe21714",
   "metadata": {},
   "outputs": [],
   "source": []
  },
  {
   "cell_type": "code",
   "execution_count": null,
   "id": "3ef47a9c-55e5-451a-8a49-5f1cda20477a",
   "metadata": {},
   "outputs": [],
   "source": []
  },
  {
   "cell_type": "code",
   "execution_count": null,
   "id": "4b7ed769-6f35-4d37-9198-798c289ebc2c",
   "metadata": {},
   "outputs": [],
   "source": []
  },
  {
   "cell_type": "code",
   "execution_count": null,
   "id": "70bac72d-5894-41ea-8211-880d68e5cd41",
   "metadata": {},
   "outputs": [],
   "source": []
  },
  {
   "cell_type": "code",
   "execution_count": null,
   "id": "f6540fbc-1289-4d9a-b975-206802078ff4",
   "metadata": {},
   "outputs": [],
   "source": []
  },
  {
   "cell_type": "code",
   "execution_count": null,
   "id": "7325b396-c4c3-46f3-85e2-5f0072314ea3",
   "metadata": {},
   "outputs": [],
   "source": []
  },
  {
   "cell_type": "code",
   "execution_count": null,
   "id": "f258e4e6-7dd8-4ba7-a3f9-ac78d97ac058",
   "metadata": {},
   "outputs": [],
   "source": []
  },
  {
   "cell_type": "code",
   "execution_count": null,
   "id": "81f6b4dc-078d-42c2-bf8e-b231a86c129d",
   "metadata": {},
   "outputs": [],
   "source": []
  },
  {
   "cell_type": "code",
   "execution_count": null,
   "id": "1202594e-779c-478a-8cb9-0a915a4cd2cb",
   "metadata": {},
   "outputs": [],
   "source": []
  },
  {
   "cell_type": "code",
   "execution_count": null,
   "id": "9e9933ba-3d73-42bb-8483-99b20135cd67",
   "metadata": {},
   "outputs": [],
   "source": []
  },
  {
   "cell_type": "code",
   "execution_count": null,
   "id": "7d2ad732-10d0-475d-8bb8-fefbf9fe9603",
   "metadata": {},
   "outputs": [],
   "source": []
  },
  {
   "cell_type": "code",
   "execution_count": null,
   "id": "0a1186a4-bc4c-4a55-8482-995837ae7c94",
   "metadata": {},
   "outputs": [],
   "source": []
  },
  {
   "cell_type": "code",
   "execution_count": null,
   "id": "b1eceec2-6019-494c-8e1f-0924b76f67fe",
   "metadata": {},
   "outputs": [],
   "source": []
  },
  {
   "cell_type": "code",
   "execution_count": null,
   "id": "0997aecc-b1ef-4c34-84c4-f88fd8d79841",
   "metadata": {},
   "outputs": [],
   "source": []
  },
  {
   "cell_type": "code",
   "execution_count": null,
   "id": "78752936-3c99-4415-8597-1b0ca8696dea",
   "metadata": {},
   "outputs": [],
   "source": []
  },
  {
   "cell_type": "code",
   "execution_count": null,
   "id": "ac7cdcae-702c-4f85-9770-a302e3a39b82",
   "metadata": {},
   "outputs": [],
   "source": []
  },
  {
   "cell_type": "code",
   "execution_count": null,
   "id": "36595c4f-204b-4375-88ec-e4a9415675ff",
   "metadata": {},
   "outputs": [],
   "source": []
  },
  {
   "cell_type": "code",
   "execution_count": null,
   "id": "dc08d428-706b-4e85-bbe6-27b1a498cfc8",
   "metadata": {},
   "outputs": [],
   "source": []
  },
  {
   "cell_type": "code",
   "execution_count": null,
   "id": "0a8bf726-4d66-4c09-8992-e7066801380f",
   "metadata": {},
   "outputs": [],
   "source": []
  },
  {
   "cell_type": "code",
   "execution_count": null,
   "id": "e2438ef9-6b54-4c22-98ed-8e64a49e5205",
   "metadata": {},
   "outputs": [],
   "source": []
  },
  {
   "cell_type": "code",
   "execution_count": null,
   "id": "09e77a7c-19d6-4058-986f-5cf5c141734e",
   "metadata": {},
   "outputs": [],
   "source": []
  },
  {
   "cell_type": "code",
   "execution_count": null,
   "id": "977ce89e-5d23-41cc-86e5-1433662fb5a3",
   "metadata": {},
   "outputs": [],
   "source": []
  },
  {
   "cell_type": "code",
   "execution_count": null,
   "id": "876c7c08-41f0-4e41-8eba-fb09ac085b8d",
   "metadata": {},
   "outputs": [],
   "source": []
  },
  {
   "cell_type": "code",
   "execution_count": null,
   "id": "976f1db3-a1e4-43b8-84dd-c8cabf9fec0f",
   "metadata": {},
   "outputs": [],
   "source": []
  },
  {
   "cell_type": "code",
   "execution_count": null,
   "id": "ca41a0fe-650e-4e7c-8341-c1755316131f",
   "metadata": {},
   "outputs": [],
   "source": []
  },
  {
   "cell_type": "code",
   "execution_count": null,
   "id": "6c42b138-5538-4504-a97e-b173101b9d90",
   "metadata": {},
   "outputs": [],
   "source": []
  },
  {
   "cell_type": "code",
   "execution_count": null,
   "id": "e99e59e2-1298-489a-8dc1-ce4826b4d10d",
   "metadata": {},
   "outputs": [],
   "source": []
  },
  {
   "cell_type": "code",
   "execution_count": null,
   "id": "e0efbfde-91c8-456a-a769-272ab2042b10",
   "metadata": {},
   "outputs": [],
   "source": []
  },
  {
   "cell_type": "code",
   "execution_count": null,
   "id": "7ddb1bc6-695a-4c2e-978f-7ff6fd634999",
   "metadata": {},
   "outputs": [],
   "source": []
  },
  {
   "cell_type": "code",
   "execution_count": null,
   "id": "b73c117f-d664-474f-97c7-afc797e88964",
   "metadata": {},
   "outputs": [],
   "source": []
  },
  {
   "cell_type": "code",
   "execution_count": null,
   "id": "e398c855-3ce0-4684-9811-1bc7560bad5a",
   "metadata": {},
   "outputs": [],
   "source": []
  },
  {
   "cell_type": "code",
   "execution_count": null,
   "id": "a62f331e-c38f-43b2-92fe-1fa775bf01d4",
   "metadata": {},
   "outputs": [],
   "source": []
  },
  {
   "cell_type": "code",
   "execution_count": null,
   "id": "6d689592-3140-46db-a249-40b0339dd02a",
   "metadata": {},
   "outputs": [],
   "source": []
  },
  {
   "cell_type": "code",
   "execution_count": null,
   "id": "6a113fbf-ac4e-4447-8538-fd65d30faaef",
   "metadata": {},
   "outputs": [],
   "source": []
  },
  {
   "cell_type": "code",
   "execution_count": null,
   "id": "5dde740c-3baf-439f-bb8e-15df81876ddb",
   "metadata": {},
   "outputs": [],
   "source": []
  },
  {
   "cell_type": "code",
   "execution_count": null,
   "id": "75d33211-a946-4160-a2b2-ae97ac6bce8f",
   "metadata": {},
   "outputs": [],
   "source": []
  }
 ],
 "metadata": {
  "kernelspec": {
   "display_name": "Python 3 (ipykernel)",
   "language": "python",
   "name": "python3"
  },
  "language_info": {
   "codemirror_mode": {
    "name": "ipython",
    "version": 3
   },
   "file_extension": ".py",
   "mimetype": "text/x-python",
   "name": "python",
   "nbconvert_exporter": "python",
   "pygments_lexer": "ipython3",
   "version": "3.12.4"
  }
 },
 "nbformat": 4,
 "nbformat_minor": 5
}
