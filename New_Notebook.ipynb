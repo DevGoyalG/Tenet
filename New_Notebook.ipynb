{
 "cells": [
  {
   "cell_type": "code",
   "execution_count": 1,
   "id": "789d0ed6-8cc7-4c90-a66d-c3625ae72b32",
   "metadata": {},
   "outputs": [],
   "source": [
    "import numpy as np\n",
    "import pandas as pd\n",
    "import matplotlib.pyplot as plt\n",
    "import seaborn as sns"
   ]
  },
  {
   "cell_type": "code",
   "execution_count": 2,
   "id": "565786cd-9666-4265-b141-8dfde755644e",
   "metadata": {},
   "outputs": [
    {
     "name": "stdout",
     "output_type": "stream",
     "text": [
      "Requirement already satisfied: tensorflow in c:\\program files\\drag software\\anaconda\\lib\\site-packages (2.17.0)\n",
      "Requirement already satisfied: opencv-python in c:\\program files\\drag software\\anaconda\\lib\\site-packages (4.10.0.84)\n",
      "Requirement already satisfied: moviepy in c:\\program files\\drag software\\anaconda\\lib\\site-packages (1.0.3)\n",
      "Requirement already satisfied: scikit-learn in c:\\program files\\drag software\\anaconda\\lib\\site-packages (1.4.2)\n",
      "Requirement already satisfied: tensorflow-intel==2.17.0 in c:\\program files\\drag software\\anaconda\\lib\\site-packages (from tensorflow) (2.17.0)\n",
      "Requirement already satisfied: absl-py>=1.0.0 in c:\\program files\\drag software\\anaconda\\lib\\site-packages (from tensorflow-intel==2.17.0->tensorflow) (2.1.0)\n",
      "Requirement already satisfied: astunparse>=1.6.0 in c:\\program files\\drag software\\anaconda\\lib\\site-packages (from tensorflow-intel==2.17.0->tensorflow) (1.6.3)\n",
      "Requirement already satisfied: flatbuffers>=24.3.25 in c:\\program files\\drag software\\anaconda\\lib\\site-packages (from tensorflow-intel==2.17.0->tensorflow) (24.3.25)\n",
      "Requirement already satisfied: gast!=0.5.0,!=0.5.1,!=0.5.2,>=0.2.1 in c:\\program files\\drag software\\anaconda\\lib\\site-packages (from tensorflow-intel==2.17.0->tensorflow) (0.6.0)\n",
      "Requirement already satisfied: google-pasta>=0.1.1 in c:\\program files\\drag software\\anaconda\\lib\\site-packages (from tensorflow-intel==2.17.0->tensorflow) (0.2.0)\n",
      "Requirement already satisfied: h5py>=3.10.0 in c:\\program files\\drag software\\anaconda\\lib\\site-packages (from tensorflow-intel==2.17.0->tensorflow) (3.11.0)\n",
      "Requirement already satisfied: libclang>=13.0.0 in c:\\program files\\drag software\\anaconda\\lib\\site-packages (from tensorflow-intel==2.17.0->tensorflow) (18.1.1)\n",
      "Requirement already satisfied: ml-dtypes<0.5.0,>=0.3.1 in c:\\program files\\drag software\\anaconda\\lib\\site-packages (from tensorflow-intel==2.17.0->tensorflow) (0.4.0)\n",
      "Requirement already satisfied: opt-einsum>=2.3.2 in c:\\program files\\drag software\\anaconda\\lib\\site-packages (from tensorflow-intel==2.17.0->tensorflow) (3.3.0)\n",
      "Requirement already satisfied: packaging in c:\\program files\\drag software\\anaconda\\lib\\site-packages (from tensorflow-intel==2.17.0->tensorflow) (23.2)\n",
      "Requirement already satisfied: protobuf!=4.21.0,!=4.21.1,!=4.21.2,!=4.21.3,!=4.21.4,!=4.21.5,<5.0.0dev,>=3.20.3 in c:\\program files\\drag software\\anaconda\\lib\\site-packages (from tensorflow-intel==2.17.0->tensorflow) (4.25.4)\n",
      "Requirement already satisfied: requests<3,>=2.21.0 in c:\\program files\\drag software\\anaconda\\lib\\site-packages (from tensorflow-intel==2.17.0->tensorflow) (2.32.2)\n",
      "Requirement already satisfied: setuptools in c:\\program files\\drag software\\anaconda\\lib\\site-packages (from tensorflow-intel==2.17.0->tensorflow) (69.5.1)\n",
      "Requirement already satisfied: six>=1.12.0 in c:\\program files\\drag software\\anaconda\\lib\\site-packages (from tensorflow-intel==2.17.0->tensorflow) (1.16.0)\n",
      "Requirement already satisfied: termcolor>=1.1.0 in c:\\program files\\drag software\\anaconda\\lib\\site-packages (from tensorflow-intel==2.17.0->tensorflow) (2.4.0)\n",
      "Requirement already satisfied: typing-extensions>=3.6.6 in c:\\program files\\drag software\\anaconda\\lib\\site-packages (from tensorflow-intel==2.17.0->tensorflow) (4.11.0)\n",
      "Requirement already satisfied: wrapt>=1.11.0 in c:\\program files\\drag software\\anaconda\\lib\\site-packages (from tensorflow-intel==2.17.0->tensorflow) (1.14.1)\n",
      "Requirement already satisfied: grpcio<2.0,>=1.24.3 in c:\\program files\\drag software\\anaconda\\lib\\site-packages (from tensorflow-intel==2.17.0->tensorflow) (1.65.5)\n",
      "Requirement already satisfied: tensorboard<2.18,>=2.17 in c:\\program files\\drag software\\anaconda\\lib\\site-packages (from tensorflow-intel==2.17.0->tensorflow) (2.17.1)\n",
      "Requirement already satisfied: keras>=3.2.0 in c:\\program files\\drag software\\anaconda\\lib\\site-packages (from tensorflow-intel==2.17.0->tensorflow) (3.5.0)\n",
      "Requirement already satisfied: numpy<2.0.0,>=1.26.0 in c:\\program files\\drag software\\anaconda\\lib\\site-packages (from tensorflow-intel==2.17.0->tensorflow) (1.26.4)\n",
      "Requirement already satisfied: decorator<5.0,>=4.0.2 in c:\\program files\\drag software\\anaconda\\lib\\site-packages (from moviepy) (4.4.2)\n",
      "Requirement already satisfied: tqdm<5.0,>=4.11.2 in c:\\program files\\drag software\\anaconda\\lib\\site-packages (from moviepy) (4.66.4)\n",
      "Requirement already satisfied: proglog<=1.0.0 in c:\\program files\\drag software\\anaconda\\lib\\site-packages (from moviepy) (0.1.10)\n",
      "Requirement already satisfied: imageio<3.0,>=2.5 in c:\\program files\\drag software\\anaconda\\lib\\site-packages (from moviepy) (2.33.1)\n",
      "Requirement already satisfied: imageio-ffmpeg>=0.2.0 in c:\\program files\\drag software\\anaconda\\lib\\site-packages (from moviepy) (0.5.1)\n",
      "Requirement already satisfied: scipy>=1.6.0 in c:\\program files\\drag software\\anaconda\\lib\\site-packages (from scikit-learn) (1.13.1)\n",
      "Requirement already satisfied: joblib>=1.2.0 in c:\\program files\\drag software\\anaconda\\lib\\site-packages (from scikit-learn) (1.4.2)\n",
      "Requirement already satisfied: threadpoolctl>=2.0.0 in c:\\program files\\drag software\\anaconda\\lib\\site-packages (from scikit-learn) (2.2.0)\n",
      "Requirement already satisfied: pillow>=8.3.2 in c:\\program files\\drag software\\anaconda\\lib\\site-packages (from imageio<3.0,>=2.5->moviepy) (10.3.0)\n",
      "Requirement already satisfied: charset-normalizer<4,>=2 in c:\\program files\\drag software\\anaconda\\lib\\site-packages (from requests<3,>=2.21.0->tensorflow-intel==2.17.0->tensorflow) (2.0.4)\n",
      "Requirement already satisfied: idna<4,>=2.5 in c:\\program files\\drag software\\anaconda\\lib\\site-packages (from requests<3,>=2.21.0->tensorflow-intel==2.17.0->tensorflow) (3.7)\n",
      "Requirement already satisfied: urllib3<3,>=1.21.1 in c:\\program files\\drag software\\anaconda\\lib\\site-packages (from requests<3,>=2.21.0->tensorflow-intel==2.17.0->tensorflow) (2.2.2)\n",
      "Requirement already satisfied: certifi>=2017.4.17 in c:\\program files\\drag software\\anaconda\\lib\\site-packages (from requests<3,>=2.21.0->tensorflow-intel==2.17.0->tensorflow) (2024.6.2)\n",
      "Requirement already satisfied: colorama in c:\\program files\\drag software\\anaconda\\lib\\site-packages (from tqdm<5.0,>=4.11.2->moviepy) (0.4.6)\n",
      "Requirement already satisfied: wheel<1.0,>=0.23.0 in c:\\program files\\drag software\\anaconda\\lib\\site-packages (from astunparse>=1.6.0->tensorflow-intel==2.17.0->tensorflow) (0.43.0)\n",
      "Requirement already satisfied: rich in c:\\program files\\drag software\\anaconda\\lib\\site-packages (from keras>=3.2.0->tensorflow-intel==2.17.0->tensorflow) (13.3.5)\n",
      "Requirement already satisfied: namex in c:\\program files\\drag software\\anaconda\\lib\\site-packages (from keras>=3.2.0->tensorflow-intel==2.17.0->tensorflow) (0.0.8)\n",
      "Requirement already satisfied: optree in c:\\program files\\drag software\\anaconda\\lib\\site-packages (from keras>=3.2.0->tensorflow-intel==2.17.0->tensorflow) (0.12.1)\n",
      "Requirement already satisfied: markdown>=2.6.8 in c:\\program files\\drag software\\anaconda\\lib\\site-packages (from tensorboard<2.18,>=2.17->tensorflow-intel==2.17.0->tensorflow) (3.4.1)\n",
      "Requirement already satisfied: tensorboard-data-server<0.8.0,>=0.7.0 in c:\\program files\\drag software\\anaconda\\lib\\site-packages (from tensorboard<2.18,>=2.17->tensorflow-intel==2.17.0->tensorflow) (0.7.2)\n",
      "Requirement already satisfied: werkzeug>=1.0.1 in c:\\program files\\drag software\\anaconda\\lib\\site-packages (from tensorboard<2.18,>=2.17->tensorflow-intel==2.17.0->tensorflow) (3.0.3)\n",
      "Requirement already satisfied: MarkupSafe>=2.1.1 in c:\\program files\\drag software\\anaconda\\lib\\site-packages (from werkzeug>=1.0.1->tensorboard<2.18,>=2.17->tensorflow-intel==2.17.0->tensorflow) (2.1.3)\n",
      "Requirement already satisfied: markdown-it-py<3.0.0,>=2.2.0 in c:\\program files\\drag software\\anaconda\\lib\\site-packages (from rich->keras>=3.2.0->tensorflow-intel==2.17.0->tensorflow) (2.2.0)\n",
      "Requirement already satisfied: pygments<3.0.0,>=2.13.0 in c:\\program files\\drag software\\anaconda\\lib\\site-packages (from rich->keras>=3.2.0->tensorflow-intel==2.17.0->tensorflow) (2.15.1)\n",
      "Requirement already satisfied: mdurl~=0.1 in c:\\program files\\drag software\\anaconda\\lib\\site-packages (from markdown-it-py<3.0.0,>=2.2.0->rich->keras>=3.2.0->tensorflow-intel==2.17.0->tensorflow) (0.1.0)\n",
      "Note: you may need to restart the kernel to use updated packages.\n"
     ]
    }
   ],
   "source": [
    "pip install tensorflow opencv-python moviepy scikit-learn"
   ]
  },
  {
   "cell_type": "code",
   "execution_count": 3,
   "id": "83e30c89-13a8-4fab-b6dc-dd7faa7ca5cd",
   "metadata": {},
   "outputs": [],
   "source": [
    "import cv2\n",
    "import os"
   ]
  },
  {
   "cell_type": "code",
   "execution_count": 4,
   "id": "2ac80df3-c262-4631-98a5-4bd8d3afb9a8",
   "metadata": {},
   "outputs": [],
   "source": [
    "\n",
    "def extract_frames(video_path, output_folder):\n",
    "    os.makedirs(output_folder, exist_ok=True)\n",
    "    cap = cv2.VideoCapture(video_path)\n",
    "    frame_count = 0\n",
    "    while True:\n",
    "        ret, frame = cap.read()\n",
    "        if not ret:\n",
    "            break\n",
    "        cv2.imwrite(os.path.join(output_folder, f\"frame_{frame_count:04d}.jpg\"), frame)\n",
    "        frame_count += 1\n",
    "    cap.release()\n",
    "\n",
    "# Example usage\n",
    "extract_frames(r\"C:\\Users\\101ri\\OneDrive\\Desktop\\deep fake detector\\Notebook\\Celeb-real\\id0_0000.mp4\", \"Celeb-real/frames\")\n",
    "extract_frames(r\"C:\\Users\\101ri\\OneDrive\\Desktop\\deep fake detector\\Notebook\\Celeb-synthesis\\id0_id1_0000.mp4\", \"Celeb-synthesis/frames\")\n"
   ]
  },
  {
   "cell_type": "code",
   "execution_count": null,
   "id": "fbf64b50-fd7d-4a3c-86b5-a7401cf291ca",
   "metadata": {},
   "outputs": [],
   "source": []
  },
  {
   "cell_type": "code",
   "execution_count": 5,
   "id": "b0856167-10b8-4cd5-b2bc-332a1be66299",
   "metadata": {},
   "outputs": [],
   "source": [
    "import numpy as np\n",
    "from tensorflow.keras.preprocessing.image import load_img, img_to_array\n",
    "from sklearn.model_selection import train_test_split"
   ]
  },
  {
   "cell_type": "code",
   "execution_count": 6,
   "id": "544ae995-30a3-4cd7-a4f3-c685229d0ac2",
   "metadata": {},
   "outputs": [],
   "source": [
    "\n",
    "def load_images_from_folder(folder, label, image_size=(128, 128)):\n",
    "    images = []\n",
    "    labels = []\n",
    "    for filename in os.listdir(folder):\n",
    "        img_path = os.path.join(folder, filename)\n",
    "        img = load_img(img_path, target_size=image_size)\n",
    "        img_array = img_to_array(img)\n",
    "        images.append(img_array)\n",
    "        labels.append(label)\n",
    "    return images, labels\n",
    "\n",
    "real_images, real_labels = load_images_from_folder(\"Celeb-real/frames\", label=0)  # 0 for real\n",
    "fake_images, fake_labels = load_images_from_folder(\"Celeb-synthesis/frames\", label=1)  # 1 for fake\n",
    "\n",
    "X = np.array(real_images + fake_images)\n",
    "y = np.array(real_labels + fake_labels)\n",
    "\n",
    "X_train, X_test, y_train, y_test = train_test_split(X, y, test_size=0.2, random_state=42)"
   ]
  },
  {
   "cell_type": "code",
   "execution_count": null,
   "id": "3d7c52fe-6d32-4d6e-8a43-76073b328285",
   "metadata": {},
   "outputs": [],
   "source": []
  },
  {
   "cell_type": "code",
   "execution_count": 7,
   "id": "c77e18cd-9a08-4e3b-afee-bb52e87a0e7f",
   "metadata": {},
   "outputs": [],
   "source": [
    "### frames extraction"
   ]
  },
  {
   "cell_type": "code",
   "execution_count": 8,
   "id": "4f469f49-a733-4e90-b370-7fd75a9cb620",
   "metadata": {},
   "outputs": [],
   "source": [
    "from moviepy.editor import VideoFileClip"
   ]
  },
  {
   "cell_type": "code",
   "execution_count": 9,
   "id": "4d91cc91-f7f6-4092-b9dd-6c205a6327c7",
   "metadata": {},
   "outputs": [],
   "source": [
    "def extract_frames_from_video(video_path, frame_count=30):\n",
    "    clip = VideoFileClip(video_path)\n",
    "    frames = []\n",
    "    duration = clip.duration\n",
    "    for i in range(frame_count):\n",
    "        frame = clip.get_frame(i * duration / frame_count)\n",
    "        frame = cv2.resize(frame, (128, 128))\n",
    "        frames.append(frame)\n",
    "    return np.array(frames)"
   ]
  },
  {
   "cell_type": "code",
   "execution_count": 10,
   "id": "818a7f12-ed0f-4721-b2d2-0afcddba1e7f",
   "metadata": {},
   "outputs": [
    {
     "name": "stdout",
     "output_type": "stream",
     "text": [
      "[[[[ 97   0   0]\n",
      "   [ 95   0   0]\n",
      "   [ 90   1   0]\n",
      "   ...\n",
      "   [ 29  13   7]\n",
      "   [ 29  16   9]\n",
      "   [ 33  20  13]]\n",
      "\n",
      "  [[100   2   1]\n",
      "   [101   3   2]\n",
      "   [ 99   1   2]\n",
      "   ...\n",
      "   [ 29  13   7]\n",
      "   [ 29  16   9]\n",
      "   [ 33  20  13]]\n",
      "\n",
      "  [[ 86   3   0]\n",
      "   [ 87   4   0]\n",
      "   [ 88   2   0]\n",
      "   ...\n",
      "   [ 29  13   7]\n",
      "   [ 29  16   9]\n",
      "   [ 33  20  13]]\n",
      "\n",
      "  ...\n",
      "\n",
      "  [[ 65   0   0]\n",
      "   [ 65   0   0]\n",
      "   [ 65   0   0]\n",
      "   ...\n",
      "   [ 29  11   6]\n",
      "   [ 29  11   6]\n",
      "   [ 29  11   6]]\n",
      "\n",
      "  [[ 65   0   0]\n",
      "   [ 65   0   0]\n",
      "   [ 65   0   0]\n",
      "   ...\n",
      "   [ 29  11   6]\n",
      "   [ 29  11   6]\n",
      "   [ 29  11   6]]\n",
      "\n",
      "  [[ 62   0   0]\n",
      "   [ 62   0   0]\n",
      "   [ 62   0   0]\n",
      "   ...\n",
      "   [ 29  11   6]\n",
      "   [ 31  10   6]\n",
      "   [ 31  10   6]]]\n",
      "\n",
      "\n",
      " [[[ 96   0   0]\n",
      "   [ 97   1   1]\n",
      "   [ 91   0   1]\n",
      "   ...\n",
      "   [ 29  13   7]\n",
      "   [ 31  15   9]\n",
      "   [ 30  19  12]]\n",
      "\n",
      "  [[103   1   3]\n",
      "   [104   2   4]\n",
      "   [ 99   0   1]\n",
      "   ...\n",
      "   [ 29  13   7]\n",
      "   [ 31  15   9]\n",
      "   [ 30  19  12]]\n",
      "\n",
      "  [[ 91   4   1]\n",
      "   [ 90   3   1]\n",
      "   [ 87   3   0]\n",
      "   ...\n",
      "   [ 29  13   7]\n",
      "   [ 31  15   9]\n",
      "   [ 31  20  13]]\n",
      "\n",
      "  ...\n",
      "\n",
      "  [[ 65   0   0]\n",
      "   [ 65   0   0]\n",
      "   [ 65   0   0]\n",
      "   ...\n",
      "   [ 29  11   6]\n",
      "   [ 29  11   6]\n",
      "   [ 29  11   6]]\n",
      "\n",
      "  [[ 65   0   0]\n",
      "   [ 65   0   0]\n",
      "   [ 65   0   0]\n",
      "   ...\n",
      "   [ 29  11   6]\n",
      "   [ 29  11   6]\n",
      "   [ 29  11   6]]\n",
      "\n",
      "  [[ 62   0   0]\n",
      "   [ 62   0   0]\n",
      "   [ 62   0   0]\n",
      "   ...\n",
      "   [ 29  11   6]\n",
      "   [ 31  10   6]\n",
      "   [ 31  10   6]]]\n",
      "\n",
      "\n",
      " [[[100   1   2]\n",
      "   [100   1   2]\n",
      "   [ 90   1   3]\n",
      "   ...\n",
      "   [ 29  13   7]\n",
      "   [ 31  15   9]\n",
      "   [ 30  19  12]]\n",
      "\n",
      "  [[104   4   6]\n",
      "   [104   4   6]\n",
      "   [ 97   1   2]\n",
      "   ...\n",
      "   [ 29  13   7]\n",
      "   [ 31  15   9]\n",
      "   [ 30  19  12]]\n",
      "\n",
      "  [[ 87   2   0]\n",
      "   [ 90   5   2]\n",
      "   [ 86   3   0]\n",
      "   ...\n",
      "   [ 29  13   7]\n",
      "   [ 31  15   9]\n",
      "   [ 31  20  13]]\n",
      "\n",
      "  ...\n",
      "\n",
      "  [[ 65   0   0]\n",
      "   [ 65   0   0]\n",
      "   [ 65   0   0]\n",
      "   ...\n",
      "   [ 29  11   6]\n",
      "   [ 29  11   6]\n",
      "   [ 29  11   6]]\n",
      "\n",
      "  [[ 65   0   0]\n",
      "   [ 65   0   0]\n",
      "   [ 65   0   0]\n",
      "   ...\n",
      "   [ 29  11   6]\n",
      "   [ 29  11   6]\n",
      "   [ 29  11   6]]\n",
      "\n",
      "  [[ 62   0   0]\n",
      "   [ 62   0   0]\n",
      "   [ 63   0   0]\n",
      "   ...\n",
      "   [ 29  11   6]\n",
      "   [ 31  10   6]\n",
      "   [ 31  10   6]]]\n",
      "\n",
      "\n",
      " ...\n",
      "\n",
      "\n",
      " [[[ 16   1  14]\n",
      "   [  5   0  45]\n",
      "   [  6   0  54]\n",
      "   ...\n",
      "   [112  87  67]\n",
      "   [ 72  52  32]\n",
      "   [ 76  51  32]]\n",
      "\n",
      "  [[ 14   1  15]\n",
      "   [  3   0  53]\n",
      "   [  1   0  71]\n",
      "   ...\n",
      "   [113  82  62]\n",
      "   [ 72  52  32]\n",
      "   [ 77  52  33]]\n",
      "\n",
      "  [[ 12   0  15]\n",
      "   [  2   0  58]\n",
      "   [  0   0  75]\n",
      "   ...\n",
      "   [114  81  60]\n",
      "   [ 72  52  32]\n",
      "   [ 77  52  33]]\n",
      "\n",
      "  ...\n",
      "\n",
      "  [[ 46   0   2]\n",
      "   [ 26   0  12]\n",
      "   [ 13   0  11]\n",
      "   ...\n",
      "   [ 41  22  10]\n",
      "   [ 41  20   7]\n",
      "   [ 54  28  16]]\n",
      "\n",
      "  [[ 47   0   1]\n",
      "   [ 29   0   8]\n",
      "   [ 15   0  10]\n",
      "   ...\n",
      "   [ 44  25  13]\n",
      "   [ 41  20   7]\n",
      "   [ 54  28  16]]\n",
      "\n",
      "  [[ 50   0   2]\n",
      "   [ 28   0   6]\n",
      "   [ 12   1  10]\n",
      "   ...\n",
      "   [ 57  36  22]\n",
      "   [ 54  33  20]\n",
      "   [ 61  39  26]]]\n",
      "\n",
      "\n",
      " [[[  2   0  45]\n",
      "   [  0   0  73]\n",
      "   [  1   0  70]\n",
      "   ...\n",
      "   [128  86  69]\n",
      "   [ 72  50  30]\n",
      "   [ 76  52  33]]\n",
      "\n",
      "  [[  0   0  49]\n",
      "   [  0   0  76]\n",
      "   [  0   0  72]\n",
      "   ...\n",
      "   [132  91  73]\n",
      "   [ 70  50  30]\n",
      "   [ 76  52  33]]\n",
      "\n",
      "  [[  3   0  47]\n",
      "   [  0   0  70]\n",
      "   [  0   0  74]\n",
      "   ...\n",
      "   [137  95  78]\n",
      "   [ 70  50  30]\n",
      "   [ 76  52  33]]\n",
      "\n",
      "  ...\n",
      "\n",
      "  [[ 30   0  10]\n",
      "   [ 15   1   6]\n",
      "   [ 12   1  10]\n",
      "   ...\n",
      "   [ 41  20   9]\n",
      "   [ 41  19  11]\n",
      "   [ 41  20   8]]\n",
      "\n",
      "  [[ 29   1   9]\n",
      "   [ 15   0   8]\n",
      "   [ 12   1  10]\n",
      "   ...\n",
      "   [ 41  20   9]\n",
      "   [ 41  20  10]\n",
      "   [ 41  20   7]]\n",
      "\n",
      "  [[ 33   0   6]\n",
      "   [ 11   0   7]\n",
      "   [ 12   1  10]\n",
      "   ...\n",
      "   [ 51  30  15]\n",
      "   [ 45  24  12]\n",
      "   [ 47  26  13]]]\n",
      "\n",
      "\n",
      " [[[  0   0  73]\n",
      "   [  0   0  75]\n",
      "   [  0   0  78]\n",
      "   ...\n",
      "   [106  39  26]\n",
      "   [115  79  61]\n",
      "   [ 74  50  28]]\n",
      "\n",
      "  [[  0   0  73]\n",
      "   [  0   0  76]\n",
      "   [  0   0  79]\n",
      "   ...\n",
      "   [104  39  25]\n",
      "   [114  79  61]\n",
      "   [ 73  50  28]]\n",
      "\n",
      "  [[  2   0  36]\n",
      "   [  2   0  41]\n",
      "   [  5   0  39]\n",
      "   ...\n",
      "   [101  41  25]\n",
      "   [113  82  61]\n",
      "   [ 71  51  28]]\n",
      "\n",
      "  ...\n",
      "\n",
      "  [[ 16   2  10]\n",
      "   [ 12   1  10]\n",
      "   [ 12   1  10]\n",
      "   ...\n",
      "   [ 41  19  11]\n",
      "   [ 42  21  10]\n",
      "   [ 42  21  10]]\n",
      "\n",
      "  [[ 14   0   7]\n",
      "   [ 11   0   9]\n",
      "   [ 13   0  10]\n",
      "   ...\n",
      "   [ 41  20  10]\n",
      "   [ 42  21  10]\n",
      "   [ 42  21  10]]\n",
      "\n",
      "  [[ 11   0   6]\n",
      "   [ 11   0   6]\n",
      "   [ 12   0  11]\n",
      "   ...\n",
      "   [ 47  25  12]\n",
      "   [ 43  22  11]\n",
      "   [ 43  22  11]]]]\n"
     ]
    }
   ],
   "source": [
    "print(extract_frames_from_video(r\"C:\\Users\\101ri\\OneDrive\\Desktop\\deep fake detector\\Notebook\\Celeb-real\\id0_0000.mp4\", 30))"
   ]
  },
  {
   "cell_type": "code",
   "execution_count": null,
   "id": "90cf1506-5e1b-4063-8653-964bc11bcb70",
   "metadata": {},
   "outputs": [],
   "source": []
  },
  {
   "cell_type": "code",
   "execution_count": null,
   "id": "76f98110-ad86-4f4b-9b90-2d55a48cafb9",
   "metadata": {},
   "outputs": [],
   "source": []
  },
  {
   "cell_type": "code",
   "execution_count": 11,
   "id": "e6d890d5-afad-4dde-9937-2838670f38ec",
   "metadata": {},
   "outputs": [],
   "source": [
    "import tensorflow as tf\n",
    "from tensorflow.keras.models import Sequential\n",
    "from tensorflow.keras.layers import Conv2D, MaxPooling2D, Flatten, Dense, Dropout"
   ]
  },
  {
   "cell_type": "markdown",
   "id": "6127b0cb-178b-41d6-96da-1c48778429a9",
   "metadata": {},
   "source": [
    "### CNN model"
   ]
  },
  {
   "cell_type": "code",
   "execution_count": 12,
   "id": "3562fe9e-f12a-4618-afc8-0b8dfd2d50c4",
   "metadata": {},
   "outputs": [],
   "source": [
    "def build_cnn_model(input_shape):\n",
    "    model = Sequential([\n",
    "        Conv2D(32, (3, 3), activation='relu', input_shape=input_shape),\n",
    "        MaxPooling2D((2, 2)),\n",
    "        Conv2D(64, (3, 3), activation='relu'),\n",
    "        MaxPooling2D((2, 2)),\n",
    "        Conv2D(128, (3, 3), activation='relu'),\n",
    "        MaxPooling2D((2, 2)),\n",
    "        Flatten(),\n",
    "        Dense(128, activation='relu'),\n",
    "        Dropout(0.2),\n",
    "        Dense(1, activation='sigmoid')\n",
    "    ])\n",
    "    model.compile(optimizer='adam', loss='binary_crossentropy', metrics=['accuracy'])\n",
    "    return model"
   ]
  },
  {
   "cell_type": "code",
   "execution_count": 13,
   "id": "b8d83f69-0164-41fb-8546-67def321b1f4",
   "metadata": {},
   "outputs": [],
   "source": [
    "input_shape = (128, 128, 3)  # Adjust based on your frame size\n",
    "cnn_model = build_cnn_model(input_shape)"
   ]
  },
  {
   "cell_type": "code",
   "execution_count": 14,
   "id": "2a74c60c-9409-4d30-9c9b-5c8054f6baf6",
   "metadata": {},
   "outputs": [
    {
     "data": {
      "text/html": [
       "<pre style=\"white-space:pre;overflow-x:auto;line-height:normal;font-family:Menlo,'DejaVu Sans Mono',consolas,'Courier New',monospace\"><span style=\"font-weight: bold\">Model: \"sequential\"</span>\n",
       "</pre>\n"
      ],
      "text/plain": [
       "\u001b[1mModel: \"sequential\"\u001b[0m\n"
      ]
     },
     "metadata": {},
     "output_type": "display_data"
    },
    {
     "data": {
      "text/html": [
       "<pre style=\"white-space:pre;overflow-x:auto;line-height:normal;font-family:Menlo,'DejaVu Sans Mono',consolas,'Courier New',monospace\">┏━━━━━━━━━━━━━━━━━━━━━━━━━━━━━━━━━━━━━━┳━━━━━━━━━━━━━━━━━━━━━━━━━━━━━┳━━━━━━━━━━━━━━━━━┓\n",
       "┃<span style=\"font-weight: bold\"> Layer (type)                         </span>┃<span style=\"font-weight: bold\"> Output Shape                </span>┃<span style=\"font-weight: bold\">         Param # </span>┃\n",
       "┡━━━━━━━━━━━━━━━━━━━━━━━━━━━━━━━━━━━━━━╇━━━━━━━━━━━━━━━━━━━━━━━━━━━━━╇━━━━━━━━━━━━━━━━━┩\n",
       "│ conv2d (<span style=\"color: #0087ff; text-decoration-color: #0087ff\">Conv2D</span>)                      │ (<span style=\"color: #00d7ff; text-decoration-color: #00d7ff\">None</span>, <span style=\"color: #00af00; text-decoration-color: #00af00\">126</span>, <span style=\"color: #00af00; text-decoration-color: #00af00\">126</span>, <span style=\"color: #00af00; text-decoration-color: #00af00\">32</span>)        │             <span style=\"color: #00af00; text-decoration-color: #00af00\">896</span> │\n",
       "├──────────────────────────────────────┼─────────────────────────────┼─────────────────┤\n",
       "│ max_pooling2d (<span style=\"color: #0087ff; text-decoration-color: #0087ff\">MaxPooling2D</span>)         │ (<span style=\"color: #00d7ff; text-decoration-color: #00d7ff\">None</span>, <span style=\"color: #00af00; text-decoration-color: #00af00\">63</span>, <span style=\"color: #00af00; text-decoration-color: #00af00\">63</span>, <span style=\"color: #00af00; text-decoration-color: #00af00\">32</span>)          │               <span style=\"color: #00af00; text-decoration-color: #00af00\">0</span> │\n",
       "├──────────────────────────────────────┼─────────────────────────────┼─────────────────┤\n",
       "│ conv2d_1 (<span style=\"color: #0087ff; text-decoration-color: #0087ff\">Conv2D</span>)                    │ (<span style=\"color: #00d7ff; text-decoration-color: #00d7ff\">None</span>, <span style=\"color: #00af00; text-decoration-color: #00af00\">61</span>, <span style=\"color: #00af00; text-decoration-color: #00af00\">61</span>, <span style=\"color: #00af00; text-decoration-color: #00af00\">64</span>)          │          <span style=\"color: #00af00; text-decoration-color: #00af00\">18,496</span> │\n",
       "├──────────────────────────────────────┼─────────────────────────────┼─────────────────┤\n",
       "│ max_pooling2d_1 (<span style=\"color: #0087ff; text-decoration-color: #0087ff\">MaxPooling2D</span>)       │ (<span style=\"color: #00d7ff; text-decoration-color: #00d7ff\">None</span>, <span style=\"color: #00af00; text-decoration-color: #00af00\">30</span>, <span style=\"color: #00af00; text-decoration-color: #00af00\">30</span>, <span style=\"color: #00af00; text-decoration-color: #00af00\">64</span>)          │               <span style=\"color: #00af00; text-decoration-color: #00af00\">0</span> │\n",
       "├──────────────────────────────────────┼─────────────────────────────┼─────────────────┤\n",
       "│ conv2d_2 (<span style=\"color: #0087ff; text-decoration-color: #0087ff\">Conv2D</span>)                    │ (<span style=\"color: #00d7ff; text-decoration-color: #00d7ff\">None</span>, <span style=\"color: #00af00; text-decoration-color: #00af00\">28</span>, <span style=\"color: #00af00; text-decoration-color: #00af00\">28</span>, <span style=\"color: #00af00; text-decoration-color: #00af00\">128</span>)         │          <span style=\"color: #00af00; text-decoration-color: #00af00\">73,856</span> │\n",
       "├──────────────────────────────────────┼─────────────────────────────┼─────────────────┤\n",
       "│ max_pooling2d_2 (<span style=\"color: #0087ff; text-decoration-color: #0087ff\">MaxPooling2D</span>)       │ (<span style=\"color: #00d7ff; text-decoration-color: #00d7ff\">None</span>, <span style=\"color: #00af00; text-decoration-color: #00af00\">14</span>, <span style=\"color: #00af00; text-decoration-color: #00af00\">14</span>, <span style=\"color: #00af00; text-decoration-color: #00af00\">128</span>)         │               <span style=\"color: #00af00; text-decoration-color: #00af00\">0</span> │\n",
       "├──────────────────────────────────────┼─────────────────────────────┼─────────────────┤\n",
       "│ flatten (<span style=\"color: #0087ff; text-decoration-color: #0087ff\">Flatten</span>)                    │ (<span style=\"color: #00d7ff; text-decoration-color: #00d7ff\">None</span>, <span style=\"color: #00af00; text-decoration-color: #00af00\">25088</span>)               │               <span style=\"color: #00af00; text-decoration-color: #00af00\">0</span> │\n",
       "├──────────────────────────────────────┼─────────────────────────────┼─────────────────┤\n",
       "│ dense (<span style=\"color: #0087ff; text-decoration-color: #0087ff\">Dense</span>)                        │ (<span style=\"color: #00d7ff; text-decoration-color: #00d7ff\">None</span>, <span style=\"color: #00af00; text-decoration-color: #00af00\">128</span>)                 │       <span style=\"color: #00af00; text-decoration-color: #00af00\">3,211,392</span> │\n",
       "├──────────────────────────────────────┼─────────────────────────────┼─────────────────┤\n",
       "│ dropout (<span style=\"color: #0087ff; text-decoration-color: #0087ff\">Dropout</span>)                    │ (<span style=\"color: #00d7ff; text-decoration-color: #00d7ff\">None</span>, <span style=\"color: #00af00; text-decoration-color: #00af00\">128</span>)                 │               <span style=\"color: #00af00; text-decoration-color: #00af00\">0</span> │\n",
       "├──────────────────────────────────────┼─────────────────────────────┼─────────────────┤\n",
       "│ dense_1 (<span style=\"color: #0087ff; text-decoration-color: #0087ff\">Dense</span>)                      │ (<span style=\"color: #00d7ff; text-decoration-color: #00d7ff\">None</span>, <span style=\"color: #00af00; text-decoration-color: #00af00\">1</span>)                   │             <span style=\"color: #00af00; text-decoration-color: #00af00\">129</span> │\n",
       "└──────────────────────────────────────┴─────────────────────────────┴─────────────────┘\n",
       "</pre>\n"
      ],
      "text/plain": [
       "┏━━━━━━━━━━━━━━━━━━━━━━━━━━━━━━━━━━━━━━┳━━━━━━━━━━━━━━━━━━━━━━━━━━━━━┳━━━━━━━━━━━━━━━━━┓\n",
       "┃\u001b[1m \u001b[0m\u001b[1mLayer (type)                        \u001b[0m\u001b[1m \u001b[0m┃\u001b[1m \u001b[0m\u001b[1mOutput Shape               \u001b[0m\u001b[1m \u001b[0m┃\u001b[1m \u001b[0m\u001b[1m        Param #\u001b[0m\u001b[1m \u001b[0m┃\n",
       "┡━━━━━━━━━━━━━━━━━━━━━━━━━━━━━━━━━━━━━━╇━━━━━━━━━━━━━━━━━━━━━━━━━━━━━╇━━━━━━━━━━━━━━━━━┩\n",
       "│ conv2d (\u001b[38;5;33mConv2D\u001b[0m)                      │ (\u001b[38;5;45mNone\u001b[0m, \u001b[38;5;34m126\u001b[0m, \u001b[38;5;34m126\u001b[0m, \u001b[38;5;34m32\u001b[0m)        │             \u001b[38;5;34m896\u001b[0m │\n",
       "├──────────────────────────────────────┼─────────────────────────────┼─────────────────┤\n",
       "│ max_pooling2d (\u001b[38;5;33mMaxPooling2D\u001b[0m)         │ (\u001b[38;5;45mNone\u001b[0m, \u001b[38;5;34m63\u001b[0m, \u001b[38;5;34m63\u001b[0m, \u001b[38;5;34m32\u001b[0m)          │               \u001b[38;5;34m0\u001b[0m │\n",
       "├──────────────────────────────────────┼─────────────────────────────┼─────────────────┤\n",
       "│ conv2d_1 (\u001b[38;5;33mConv2D\u001b[0m)                    │ (\u001b[38;5;45mNone\u001b[0m, \u001b[38;5;34m61\u001b[0m, \u001b[38;5;34m61\u001b[0m, \u001b[38;5;34m64\u001b[0m)          │          \u001b[38;5;34m18,496\u001b[0m │\n",
       "├──────────────────────────────────────┼─────────────────────────────┼─────────────────┤\n",
       "│ max_pooling2d_1 (\u001b[38;5;33mMaxPooling2D\u001b[0m)       │ (\u001b[38;5;45mNone\u001b[0m, \u001b[38;5;34m30\u001b[0m, \u001b[38;5;34m30\u001b[0m, \u001b[38;5;34m64\u001b[0m)          │               \u001b[38;5;34m0\u001b[0m │\n",
       "├──────────────────────────────────────┼─────────────────────────────┼─────────────────┤\n",
       "│ conv2d_2 (\u001b[38;5;33mConv2D\u001b[0m)                    │ (\u001b[38;5;45mNone\u001b[0m, \u001b[38;5;34m28\u001b[0m, \u001b[38;5;34m28\u001b[0m, \u001b[38;5;34m128\u001b[0m)         │          \u001b[38;5;34m73,856\u001b[0m │\n",
       "├──────────────────────────────────────┼─────────────────────────────┼─────────────────┤\n",
       "│ max_pooling2d_2 (\u001b[38;5;33mMaxPooling2D\u001b[0m)       │ (\u001b[38;5;45mNone\u001b[0m, \u001b[38;5;34m14\u001b[0m, \u001b[38;5;34m14\u001b[0m, \u001b[38;5;34m128\u001b[0m)         │               \u001b[38;5;34m0\u001b[0m │\n",
       "├──────────────────────────────────────┼─────────────────────────────┼─────────────────┤\n",
       "│ flatten (\u001b[38;5;33mFlatten\u001b[0m)                    │ (\u001b[38;5;45mNone\u001b[0m, \u001b[38;5;34m25088\u001b[0m)               │               \u001b[38;5;34m0\u001b[0m │\n",
       "├──────────────────────────────────────┼─────────────────────────────┼─────────────────┤\n",
       "│ dense (\u001b[38;5;33mDense\u001b[0m)                        │ (\u001b[38;5;45mNone\u001b[0m, \u001b[38;5;34m128\u001b[0m)                 │       \u001b[38;5;34m3,211,392\u001b[0m │\n",
       "├──────────────────────────────────────┼─────────────────────────────┼─────────────────┤\n",
       "│ dropout (\u001b[38;5;33mDropout\u001b[0m)                    │ (\u001b[38;5;45mNone\u001b[0m, \u001b[38;5;34m128\u001b[0m)                 │               \u001b[38;5;34m0\u001b[0m │\n",
       "├──────────────────────────────────────┼─────────────────────────────┼─────────────────┤\n",
       "│ dense_1 (\u001b[38;5;33mDense\u001b[0m)                      │ (\u001b[38;5;45mNone\u001b[0m, \u001b[38;5;34m1\u001b[0m)                   │             \u001b[38;5;34m129\u001b[0m │\n",
       "└──────────────────────────────────────┴─────────────────────────────┴─────────────────┘\n"
      ]
     },
     "metadata": {},
     "output_type": "display_data"
    },
    {
     "data": {
      "text/html": [
       "<pre style=\"white-space:pre;overflow-x:auto;line-height:normal;font-family:Menlo,'DejaVu Sans Mono',consolas,'Courier New',monospace\"><span style=\"font-weight: bold\"> Total params: </span><span style=\"color: #00af00; text-decoration-color: #00af00\">3,304,769</span> (12.61 MB)\n",
       "</pre>\n"
      ],
      "text/plain": [
       "\u001b[1m Total params: \u001b[0m\u001b[38;5;34m3,304,769\u001b[0m (12.61 MB)\n"
      ]
     },
     "metadata": {},
     "output_type": "display_data"
    },
    {
     "data": {
      "text/html": [
       "<pre style=\"white-space:pre;overflow-x:auto;line-height:normal;font-family:Menlo,'DejaVu Sans Mono',consolas,'Courier New',monospace\"><span style=\"font-weight: bold\"> Trainable params: </span><span style=\"color: #00af00; text-decoration-color: #00af00\">3,304,769</span> (12.61 MB)\n",
       "</pre>\n"
      ],
      "text/plain": [
       "\u001b[1m Trainable params: \u001b[0m\u001b[38;5;34m3,304,769\u001b[0m (12.61 MB)\n"
      ]
     },
     "metadata": {},
     "output_type": "display_data"
    },
    {
     "data": {
      "text/html": [
       "<pre style=\"white-space:pre;overflow-x:auto;line-height:normal;font-family:Menlo,'DejaVu Sans Mono',consolas,'Courier New',monospace\"><span style=\"font-weight: bold\"> Non-trainable params: </span><span style=\"color: #00af00; text-decoration-color: #00af00\">0</span> (0.00 B)\n",
       "</pre>\n"
      ],
      "text/plain": [
       "\u001b[1m Non-trainable params: \u001b[0m\u001b[38;5;34m0\u001b[0m (0.00 B)\n"
      ]
     },
     "metadata": {},
     "output_type": "display_data"
    }
   ],
   "source": [
    "cnn_model.summary()"
   ]
  },
  {
   "cell_type": "code",
   "execution_count": 15,
   "id": "fb5618e2-61fc-4aec-b606-2e500c5c392f",
   "metadata": {},
   "outputs": [
    {
     "name": "stdout",
     "output_type": "stream",
     "text": [
      "Epoch 1/40\n",
      "\u001b[1m17/17\u001b[0m \u001b[32m━━━━━━━━━━━━━━━━━━━━\u001b[0m\u001b[37m\u001b[0m \u001b[1m7s\u001b[0m 183ms/step - accuracy: 0.4877 - loss: 51.4869 - val_accuracy: 0.5333 - val_loss: 0.6909\n",
      "Epoch 2/40\n",
      "\u001b[1m17/17\u001b[0m \u001b[32m━━━━━━━━━━━━━━━━━━━━\u001b[0m\u001b[37m\u001b[0m \u001b[1m3s\u001b[0m 165ms/step - accuracy: 0.5019 - loss: 0.6996 - val_accuracy: 0.4711 - val_loss: 0.6941\n",
      "Epoch 3/40\n",
      "\u001b[1m17/17\u001b[0m \u001b[32m━━━━━━━━━━━━━━━━━━━━\u001b[0m\u001b[37m\u001b[0m \u001b[1m3s\u001b[0m 162ms/step - accuracy: 0.5331 - loss: 0.6921 - val_accuracy: 0.4889 - val_loss: 0.6935\n",
      "Epoch 4/40\n",
      "\u001b[1m17/17\u001b[0m \u001b[32m━━━━━━━━━━━━━━━━━━━━\u001b[0m\u001b[37m\u001b[0m \u001b[1m3s\u001b[0m 163ms/step - accuracy: 0.5869 - loss: 0.6810 - val_accuracy: 0.5511 - val_loss: 0.6739\n",
      "Epoch 5/40\n",
      "\u001b[1m17/17\u001b[0m \u001b[32m━━━━━━━━━━━━━━━━━━━━\u001b[0m\u001b[37m\u001b[0m \u001b[1m3s\u001b[0m 161ms/step - accuracy: 0.5222 - loss: 0.7001 - val_accuracy: 0.5956 - val_loss: 0.6840\n",
      "Epoch 6/40\n",
      "\u001b[1m17/17\u001b[0m \u001b[32m━━━━━━━━━━━━━━━━━━━━\u001b[0m\u001b[37m\u001b[0m \u001b[1m3s\u001b[0m 162ms/step - accuracy: 0.5319 - loss: 0.6840 - val_accuracy: 0.5778 - val_loss: 0.6747\n",
      "Epoch 7/40\n",
      "\u001b[1m17/17\u001b[0m \u001b[32m━━━━━━━━━━━━━━━━━━━━\u001b[0m\u001b[37m\u001b[0m \u001b[1m3s\u001b[0m 163ms/step - accuracy: 0.6037 - loss: 0.6806 - val_accuracy: 0.5556 - val_loss: 0.6659\n",
      "Epoch 8/40\n",
      "\u001b[1m17/17\u001b[0m \u001b[32m━━━━━━━━━━━━━━━━━━━━\u001b[0m\u001b[37m\u001b[0m \u001b[1m3s\u001b[0m 170ms/step - accuracy: 0.5159 - loss: 0.6782 - val_accuracy: 0.6711 - val_loss: 0.6697\n",
      "Epoch 9/40\n",
      "\u001b[1m17/17\u001b[0m \u001b[32m━━━━━━━━━━━━━━━━━━━━\u001b[0m\u001b[37m\u001b[0m \u001b[1m3s\u001b[0m 160ms/step - accuracy: 0.6620 - loss: 0.6508 - val_accuracy: 0.4667 - val_loss: 0.8230\n",
      "Epoch 10/40\n",
      "\u001b[1m17/17\u001b[0m \u001b[32m━━━━━━━━━━━━━━━━━━━━\u001b[0m\u001b[37m\u001b[0m \u001b[1m3s\u001b[0m 163ms/step - accuracy: 0.5288 - loss: 0.6915 - val_accuracy: 0.6667 - val_loss: 0.6240\n",
      "Epoch 11/40\n",
      "\u001b[1m17/17\u001b[0m \u001b[32m━━━━━━━━━━━━━━━━━━━━\u001b[0m\u001b[37m\u001b[0m \u001b[1m3s\u001b[0m 166ms/step - accuracy: 0.7031 - loss: 0.5790 - val_accuracy: 0.4622 - val_loss: 0.9756\n",
      "Epoch 12/40\n",
      "\u001b[1m17/17\u001b[0m \u001b[32m━━━━━━━━━━━━━━━━━━━━\u001b[0m\u001b[37m\u001b[0m \u001b[1m3s\u001b[0m 167ms/step - accuracy: 0.5696 - loss: 0.7302 - val_accuracy: 0.7200 - val_loss: 0.6197\n",
      "Epoch 13/40\n",
      "\u001b[1m17/17\u001b[0m \u001b[32m━━━━━━━━━━━━━━━━━━━━\u001b[0m\u001b[37m\u001b[0m \u001b[1m3s\u001b[0m 166ms/step - accuracy: 0.7465 - loss: 0.5801 - val_accuracy: 0.5244 - val_loss: 0.6656\n",
      "Epoch 14/40\n",
      "\u001b[1m17/17\u001b[0m \u001b[32m━━━━━━━━━━━━━━━━━━━━\u001b[0m\u001b[37m\u001b[0m \u001b[1m3s\u001b[0m 164ms/step - accuracy: 0.6965 - loss: 0.5400 - val_accuracy: 0.8311 - val_loss: 0.4244\n",
      "Epoch 15/40\n",
      "\u001b[1m17/17\u001b[0m \u001b[32m━━━━━━━━━━━━━━━━━━━━\u001b[0m\u001b[37m\u001b[0m \u001b[1m3s\u001b[0m 169ms/step - accuracy: 0.7924 - loss: 0.4794 - val_accuracy: 0.6667 - val_loss: 0.5375\n",
      "Epoch 16/40\n",
      "\u001b[1m17/17\u001b[0m \u001b[32m━━━━━━━━━━━━━━━━━━━━\u001b[0m\u001b[37m\u001b[0m \u001b[1m3s\u001b[0m 161ms/step - accuracy: 0.7905 - loss: 0.4467 - val_accuracy: 0.8444 - val_loss: 0.3804\n",
      "Epoch 17/40\n",
      "\u001b[1m17/17\u001b[0m \u001b[32m━━━━━━━━━━━━━━━━━━━━\u001b[0m\u001b[37m\u001b[0m \u001b[1m3s\u001b[0m 167ms/step - accuracy: 0.8040 - loss: 0.4159 - val_accuracy: 0.6622 - val_loss: 0.5595\n",
      "Epoch 18/40\n",
      "\u001b[1m17/17\u001b[0m \u001b[32m━━━━━━━━━━━━━━━━━━━━\u001b[0m\u001b[37m\u001b[0m \u001b[1m3s\u001b[0m 160ms/step - accuracy: 0.8756 - loss: 0.2876 - val_accuracy: 0.9378 - val_loss: 0.1617\n",
      "Epoch 19/40\n",
      "\u001b[1m17/17\u001b[0m \u001b[32m━━━━━━━━━━━━━━━━━━━━\u001b[0m\u001b[37m\u001b[0m \u001b[1m3s\u001b[0m 162ms/step - accuracy: 0.9206 - loss: 0.1636 - val_accuracy: 0.5778 - val_loss: 0.8326\n",
      "Epoch 20/40\n",
      "\u001b[1m17/17\u001b[0m \u001b[32m━━━━━━━━━━━━━━━━━━━━\u001b[0m\u001b[37m\u001b[0m \u001b[1m3s\u001b[0m 164ms/step - accuracy: 0.7947 - loss: 0.3810 - val_accuracy: 0.9867 - val_loss: 0.1028\n",
      "Epoch 21/40\n",
      "\u001b[1m17/17\u001b[0m \u001b[32m━━━━━━━━━━━━━━━━━━━━\u001b[0m\u001b[37m\u001b[0m \u001b[1m3s\u001b[0m 165ms/step - accuracy: 0.9975 - loss: 0.0655 - val_accuracy: 1.0000 - val_loss: 0.0535\n",
      "Epoch 22/40\n",
      "\u001b[1m17/17\u001b[0m \u001b[32m━━━━━━━━━━━━━━━━━━━━\u001b[0m\u001b[37m\u001b[0m \u001b[1m3s\u001b[0m 163ms/step - accuracy: 1.0000 - loss: 0.0352 - val_accuracy: 1.0000 - val_loss: 0.0286\n",
      "Epoch 23/40\n",
      "\u001b[1m17/17\u001b[0m \u001b[32m━━━━━━━━━━━━━━━━━━━━\u001b[0m\u001b[37m\u001b[0m \u001b[1m3s\u001b[0m 165ms/step - accuracy: 1.0000 - loss: 0.0183 - val_accuracy: 1.0000 - val_loss: 0.0184\n",
      "Epoch 24/40\n",
      "\u001b[1m17/17\u001b[0m \u001b[32m━━━━━━━━━━━━━━━━━━━━\u001b[0m\u001b[37m\u001b[0m \u001b[1m3s\u001b[0m 166ms/step - accuracy: 1.0000 - loss: 0.0137 - val_accuracy: 1.0000 - val_loss: 0.0170\n",
      "Epoch 25/40\n",
      "\u001b[1m17/17\u001b[0m \u001b[32m━━━━━━━━━━━━━━━━━━━━\u001b[0m\u001b[37m\u001b[0m \u001b[1m3s\u001b[0m 166ms/step - accuracy: 1.0000 - loss: 0.0082 - val_accuracy: 0.9911 - val_loss: 0.0174\n",
      "Epoch 26/40\n",
      "\u001b[1m17/17\u001b[0m \u001b[32m━━━━━━━━━━━━━━━━━━━━\u001b[0m\u001b[37m\u001b[0m \u001b[1m3s\u001b[0m 166ms/step - accuracy: 1.0000 - loss: 0.0078 - val_accuracy: 1.0000 - val_loss: 0.0074\n",
      "Epoch 27/40\n",
      "\u001b[1m17/17\u001b[0m \u001b[32m━━━━━━━━━━━━━━━━━━━━\u001b[0m\u001b[37m\u001b[0m \u001b[1m3s\u001b[0m 165ms/step - accuracy: 1.0000 - loss: 0.0039 - val_accuracy: 1.0000 - val_loss: 0.0058\n",
      "Epoch 28/40\n",
      "\u001b[1m17/17\u001b[0m \u001b[32m━━━━━━━━━━━━━━━━━━━━\u001b[0m\u001b[37m\u001b[0m \u001b[1m3s\u001b[0m 163ms/step - accuracy: 1.0000 - loss: 0.0031 - val_accuracy: 1.0000 - val_loss: 0.0045\n",
      "Epoch 29/40\n",
      "\u001b[1m17/17\u001b[0m \u001b[32m━━━━━━━━━━━━━━━━━━━━\u001b[0m\u001b[37m\u001b[0m \u001b[1m3s\u001b[0m 161ms/step - accuracy: 1.0000 - loss: 0.0032 - val_accuracy: 1.0000 - val_loss: 0.0043\n",
      "Epoch 30/40\n",
      "\u001b[1m17/17\u001b[0m \u001b[32m━━━━━━━━━━━━━━━━━━━━\u001b[0m\u001b[37m\u001b[0m \u001b[1m3s\u001b[0m 162ms/step - accuracy: 1.0000 - loss: 0.0029 - val_accuracy: 1.0000 - val_loss: 0.0028\n",
      "Epoch 31/40\n",
      "\u001b[1m17/17\u001b[0m \u001b[32m━━━━━━━━━━━━━━━━━━━━\u001b[0m\u001b[37m\u001b[0m \u001b[1m3s\u001b[0m 166ms/step - accuracy: 1.0000 - loss: 0.0017 - val_accuracy: 1.0000 - val_loss: 0.0027\n",
      "Epoch 32/40\n",
      "\u001b[1m17/17\u001b[0m \u001b[32m━━━━━━━━━━━━━━━━━━━━\u001b[0m\u001b[37m\u001b[0m \u001b[1m3s\u001b[0m 164ms/step - accuracy: 1.0000 - loss: 0.0019 - val_accuracy: 1.0000 - val_loss: 0.0029\n",
      "Epoch 33/40\n",
      "\u001b[1m17/17\u001b[0m \u001b[32m━━━━━━━━━━━━━━━━━━━━\u001b[0m\u001b[37m\u001b[0m \u001b[1m3s\u001b[0m 161ms/step - accuracy: 1.0000 - loss: 0.0013 - val_accuracy: 1.0000 - val_loss: 0.0031\n",
      "Epoch 34/40\n",
      "\u001b[1m17/17\u001b[0m \u001b[32m━━━━━━━━━━━━━━━━━━━━\u001b[0m\u001b[37m\u001b[0m \u001b[1m3s\u001b[0m 160ms/step - accuracy: 1.0000 - loss: 0.0015 - val_accuracy: 1.0000 - val_loss: 0.0029\n",
      "Epoch 35/40\n",
      "\u001b[1m17/17\u001b[0m \u001b[32m━━━━━━━━━━━━━━━━━━━━\u001b[0m\u001b[37m\u001b[0m \u001b[1m3s\u001b[0m 164ms/step - accuracy: 1.0000 - loss: 0.0012 - val_accuracy: 1.0000 - val_loss: 0.0034\n",
      "Epoch 36/40\n",
      "\u001b[1m17/17\u001b[0m \u001b[32m━━━━━━━━━━━━━━━━━━━━\u001b[0m\u001b[37m\u001b[0m \u001b[1m3s\u001b[0m 166ms/step - accuracy: 1.0000 - loss: 0.0014 - val_accuracy: 1.0000 - val_loss: 0.0021\n",
      "Epoch 37/40\n",
      "\u001b[1m17/17\u001b[0m \u001b[32m━━━━━━━━━━━━━━━━━━━━\u001b[0m\u001b[37m\u001b[0m \u001b[1m3s\u001b[0m 163ms/step - accuracy: 1.0000 - loss: 0.0014 - val_accuracy: 1.0000 - val_loss: 0.0012\n",
      "Epoch 38/40\n",
      "\u001b[1m17/17\u001b[0m \u001b[32m━━━━━━━━━━━━━━━━━━━━\u001b[0m\u001b[37m\u001b[0m \u001b[1m3s\u001b[0m 168ms/step - accuracy: 1.0000 - loss: 0.0012 - val_accuracy: 1.0000 - val_loss: 0.0041\n",
      "Epoch 39/40\n",
      "\u001b[1m17/17\u001b[0m \u001b[32m━━━━━━━━━━━━━━━━━━━━\u001b[0m\u001b[37m\u001b[0m \u001b[1m3s\u001b[0m 161ms/step - accuracy: 1.0000 - loss: 0.0015 - val_accuracy: 1.0000 - val_loss: 0.0038\n",
      "Epoch 40/40\n",
      "\u001b[1m17/17\u001b[0m \u001b[32m━━━━━━━━━━━━━━━━━━━━\u001b[0m\u001b[37m\u001b[0m \u001b[1m3s\u001b[0m 161ms/step - accuracy: 1.0000 - loss: 8.2331e-04 - val_accuracy: 1.0000 - val_loss: 0.0016\n"
     ]
    },
    {
     "data": {
      "text/plain": [
       "<keras.src.callbacks.history.History at 0x1b909435c40>"
      ]
     },
     "execution_count": 15,
     "metadata": {},
     "output_type": "execute_result"
    }
   ],
   "source": [
    "# Train the model\n",
    "cnn_model.fit(X_train, y_train, epochs=40, batch_size=32, validation_split=0.3)"
   ]
  },
  {
   "cell_type": "code",
   "execution_count": 16,
   "id": "ca151469-c061-4454-a707-be42238be55d",
   "metadata": {},
   "outputs": [],
   "source": [
    "from sklearn.metrics import accuracy_score"
   ]
  },
  {
   "cell_type": "code",
   "execution_count": 17,
   "id": "898f1581-b7ed-417f-a8d5-c103e148d08a",
   "metadata": {},
   "outputs": [
    {
     "name": "stdout",
     "output_type": "stream",
     "text": [
      "\u001b[1m6/6\u001b[0m \u001b[32m━━━━━━━━━━━━━━━━━━━━\u001b[0m\u001b[37m\u001b[0m \u001b[1m0s\u001b[0m 57ms/step - accuracy: 1.0000 - loss: 0.0019\n"
     ]
    }
   ],
   "source": [
    "# model evalution\n",
    "loss, accuracy = cnn_model.evaluate(X_test, y_test)"
   ]
  },
  {
   "cell_type": "code",
   "execution_count": 18,
   "id": "3abd6e8b-d075-4529-a2d6-2daf38937229",
   "metadata": {},
   "outputs": [
    {
     "name": "stdout",
     "output_type": "stream",
     "text": [
      "Cnn Model Test Accuracy: 1.0\n"
     ]
    }
   ],
   "source": [
    "print(f'Cnn Model Test Accuracy: {accuracy}')"
   ]
  },
  {
   "cell_type": "code",
   "execution_count": null,
   "id": "8452dd9a-b5d4-42e3-a82c-9fd14eea5697",
   "metadata": {},
   "outputs": [],
   "source": []
  },
  {
   "cell_type": "code",
   "execution_count": null,
   "id": "0447e37f-9965-454b-b039-1a11c590352f",
   "metadata": {},
   "outputs": [],
   "source": []
  },
  {
   "cell_type": "markdown",
   "id": "5ed7b530-ed98-4203-b149-3525db51cc24",
   "metadata": {},
   "source": [
    "### LSTM"
   ]
  },
  {
   "cell_type": "code",
   "execution_count": 19,
   "id": "462c83bc-f908-4a0c-8208-0b9ce3da0b40",
   "metadata": {},
   "outputs": [],
   "source": [
    "from tensorflow.keras.layers import LSTM, TimeDistributed, Bidirectional\n"
   ]
  },
  {
   "cell_type": "code",
   "execution_count": null,
   "id": "5bef9046-8199-4d9d-8485-655d80bc4c12",
   "metadata": {},
   "outputs": [],
   "source": []
  },
  {
   "cell_type": "code",
   "execution_count": null,
   "id": "bd57ca8d-2851-4055-8e72-0c259080fe13",
   "metadata": {},
   "outputs": [],
   "source": []
  },
  {
   "cell_type": "code",
   "execution_count": 20,
   "id": "e427b7c4-948a-40ef-a534-e22b0771234f",
   "metadata": {},
   "outputs": [],
   "source": [
    "# Assuming X_train has shape (num_samples, 128, 128, 3)\n",
    "# and you want to create sequences of 10 frames\n",
    "num_frames_per_sequence = 10\n",
    "\n",
    "# Calculate the number of sequences you can create\n",
    "num_sequences = len(X_train) // num_frames_per_sequence\n",
    "\n",
    "# Reshape data into sequences\n",
    "X_train_lstm = X_train[:num_sequences * num_frames_per_sequence]\n",
    "X_train_lstm = X_train_lstm.reshape((num_sequences, num_frames_per_sequence, 128, 128, 3))\n",
    "\n",
    "# Repeat similarly for X_test\n"
   ]
  },
  {
   "cell_type": "code",
   "execution_count": null,
   "id": "dd71b26e-dc63-464f-b6cf-e4224864896c",
   "metadata": {},
   "outputs": [],
   "source": []
  },
  {
   "cell_type": "code",
   "execution_count": 21,
   "id": "400afdaa-d60e-45e6-9142-fe40abb5d567",
   "metadata": {},
   "outputs": [],
   "source": [
    "from tensorflow.keras import layers\n",
    "\n",
    "def build_lstm_model(input_shape):\n",
    "    model = Sequential([\n",
    "        TimeDistributed(layers.Conv2D(32, (3, 3), activation='relu', input_shape=input_shape)),\n",
    "        TimeDistributed(layers.MaxPooling2D((2, 2))),\n",
    "        TimeDistributed(layers.Flatten()),\n",
    "        Bidirectional(layers.LSTM(50, return_sequences=True, dropout=0.2, recurrent_dropout=0.2)),\n",
    "        Bidirectional(layers.LSTM(50, dropout=0.2, recurrent_dropout=0.2)),\n",
    "        layers.Dense(1, activation='sigmoid')\n",
    "    ])\n",
    "    model.compile(optimizer='adam', loss='binary_crossentropy', metrics=['accuracy'])\n",
    "    return model\n"
   ]
  },
  {
   "cell_type": "code",
   "execution_count": 22,
   "id": "686dc56d-00f6-45e8-b0d3-1f2a4657cfd7",
   "metadata": {},
   "outputs": [],
   "source": [
    "input_shape = (10, 128, 128, 3)  # Example with 10 frames per sequence\n",
    "lstm_model = build_lstm_model(input_shape)"
   ]
  },
  {
   "cell_type": "code",
   "execution_count": 23,
   "id": "341ce2f3-c167-4f4f-8ee7-c05fa3d15c82",
   "metadata": {},
   "outputs": [
    {
     "name": "stdout",
     "output_type": "stream",
     "text": [
      "Epoch 1/50\n",
      "\u001b[1m8/8\u001b[0m \u001b[32m━━━━━━━━━━━━━━━━━━━━\u001b[0m\u001b[37m\u001b[0m \u001b[1m23s\u001b[0m 2s/step - accuracy: 0.6715 - loss: 0.6574 - val_accuracy: 0.5333 - val_loss: 0.6913\n",
      "Epoch 2/50\n",
      "\u001b[1m8/8\u001b[0m \u001b[32m━━━━━━━━━━━━━━━━━━━━\u001b[0m\u001b[37m\u001b[0m \u001b[1m11s\u001b[0m 1s/step - accuracy: 0.5186 - loss: 0.6931 - val_accuracy: 0.5333 - val_loss: 0.7147\n",
      "Epoch 3/50\n",
      "\u001b[1m8/8\u001b[0m \u001b[32m━━━━━━━━━━━━━━━━━━━━\u001b[0m\u001b[37m\u001b[0m \u001b[1m11s\u001b[0m 1s/step - accuracy: 0.5312 - loss: 0.7304 - val_accuracy: 0.5333 - val_loss: 0.7095\n",
      "Epoch 4/50\n",
      "\u001b[1m8/8\u001b[0m \u001b[32m━━━━━━━━━━━━━━━━━━━━\u001b[0m\u001b[37m\u001b[0m \u001b[1m11s\u001b[0m 1s/step - accuracy: 0.5145 - loss: 0.6952 - val_accuracy: 0.5333 - val_loss: 0.6977\n",
      "Epoch 5/50\n",
      "\u001b[1m8/8\u001b[0m \u001b[32m━━━━━━━━━━━━━━━━━━━━\u001b[0m\u001b[37m\u001b[0m \u001b[1m11s\u001b[0m 1s/step - accuracy: 0.6066 - loss: 0.6757 - val_accuracy: 0.5333 - val_loss: 0.6909\n",
      "Epoch 6/50\n",
      "\u001b[1m8/8\u001b[0m \u001b[32m━━━━━━━━━━━━━━━━━━━━\u001b[0m\u001b[37m\u001b[0m \u001b[1m11s\u001b[0m 1s/step - accuracy: 0.6416 - loss: 0.6590 - val_accuracy: 0.5333 - val_loss: 0.6925\n",
      "Epoch 7/50\n",
      "\u001b[1m8/8\u001b[0m \u001b[32m━━━━━━━━━━━━━━━━━━━━\u001b[0m\u001b[37m\u001b[0m \u001b[1m11s\u001b[0m 1s/step - accuracy: 0.4251 - loss: 0.7511 - val_accuracy: 0.4667 - val_loss: 0.6950\n",
      "Epoch 8/50\n",
      "\u001b[1m8/8\u001b[0m \u001b[32m━━━━━━━━━━━━━━━━━━━━\u001b[0m\u001b[37m\u001b[0m \u001b[1m11s\u001b[0m 1s/step - accuracy: 0.4244 - loss: 0.7202 - val_accuracy: 0.5333 - val_loss: 0.6913\n",
      "Epoch 9/50\n",
      "\u001b[1m8/8\u001b[0m \u001b[32m━━━━━━━━━━━━━━━━━━━━\u001b[0m\u001b[37m\u001b[0m \u001b[1m11s\u001b[0m 1s/step - accuracy: 0.4180 - loss: 0.7370 - val_accuracy: 0.5333 - val_loss: 0.6950\n",
      "Epoch 10/50\n",
      "\u001b[1m8/8\u001b[0m \u001b[32m━━━━━━━━━━━━━━━━━━━━\u001b[0m\u001b[37m\u001b[0m \u001b[1m11s\u001b[0m 1s/step - accuracy: 0.6258 - loss: 0.6771 - val_accuracy: 0.5333 - val_loss: 0.6949\n",
      "Epoch 11/50\n",
      "\u001b[1m8/8\u001b[0m \u001b[32m━━━━━━━━━━━━━━━━━━━━\u001b[0m\u001b[37m\u001b[0m \u001b[1m11s\u001b[0m 1s/step - accuracy: 0.5000 - loss: 0.6955 - val_accuracy: 0.5333 - val_loss: 0.7031\n",
      "Epoch 12/50\n",
      "\u001b[1m8/8\u001b[0m \u001b[32m━━━━━━━━━━━━━━━━━━━━\u001b[0m\u001b[37m\u001b[0m \u001b[1m11s\u001b[0m 1s/step - accuracy: 0.5810 - loss: 0.6918 - val_accuracy: 0.5333 - val_loss: 0.6985\n",
      "Epoch 13/50\n",
      "\u001b[1m8/8\u001b[0m \u001b[32m━━━━━━━━━━━━━━━━━━━━\u001b[0m\u001b[37m\u001b[0m \u001b[1m11s\u001b[0m 1s/step - accuracy: 0.5645 - loss: 0.7101 - val_accuracy: 0.5333 - val_loss: 0.6910\n",
      "Epoch 14/50\n",
      "\u001b[1m8/8\u001b[0m \u001b[32m━━━━━━━━━━━━━━━━━━━━\u001b[0m\u001b[37m\u001b[0m \u001b[1m11s\u001b[0m 1s/step - accuracy: 0.6021 - loss: 0.6919 - val_accuracy: 0.5333 - val_loss: 0.6919\n",
      "Epoch 15/50\n",
      "\u001b[1m8/8\u001b[0m \u001b[32m━━━━━━━━━━━━━━━━━━━━\u001b[0m\u001b[37m\u001b[0m \u001b[1m11s\u001b[0m 1s/step - accuracy: 0.5437 - loss: 0.7114 - val_accuracy: 0.5333 - val_loss: 0.7007\n",
      "Epoch 16/50\n",
      "\u001b[1m8/8\u001b[0m \u001b[32m━━━━━━━━━━━━━━━━━━━━\u001b[0m\u001b[37m\u001b[0m \u001b[1m11s\u001b[0m 1s/step - accuracy: 0.5278 - loss: 0.7069 - val_accuracy: 0.5333 - val_loss: 0.6994\n",
      "Epoch 17/50\n",
      "\u001b[1m8/8\u001b[0m \u001b[32m━━━━━━━━━━━━━━━━━━━━\u001b[0m\u001b[37m\u001b[0m \u001b[1m11s\u001b[0m 1s/step - accuracy: 0.5559 - loss: 0.7019 - val_accuracy: 0.5333 - val_loss: 0.6998\n",
      "Epoch 18/50\n",
      "\u001b[1m8/8\u001b[0m \u001b[32m━━━━━━━━━━━━━━━━━━━━\u001b[0m\u001b[37m\u001b[0m \u001b[1m11s\u001b[0m 1s/step - accuracy: 0.5315 - loss: 0.6942 - val_accuracy: 0.5333 - val_loss: 0.6946\n",
      "Epoch 19/50\n",
      "\u001b[1m8/8\u001b[0m \u001b[32m━━━━━━━━━━━━━━━━━━━━\u001b[0m\u001b[37m\u001b[0m \u001b[1m11s\u001b[0m 1s/step - accuracy: 0.5699 - loss: 0.6928 - val_accuracy: 0.5333 - val_loss: 0.6943\n",
      "Epoch 20/50\n",
      "\u001b[1m8/8\u001b[0m \u001b[32m━━━━━━━━━━━━━━━━━━━━\u001b[0m\u001b[37m\u001b[0m \u001b[1m11s\u001b[0m 1s/step - accuracy: 0.6075 - loss: 0.6717 - val_accuracy: 0.5333 - val_loss: 0.6941\n",
      "Epoch 21/50\n",
      "\u001b[1m8/8\u001b[0m \u001b[32m━━━━━━━━━━━━━━━━━━━━\u001b[0m\u001b[37m\u001b[0m \u001b[1m11s\u001b[0m 1s/step - accuracy: 0.4836 - loss: 0.7089 - val_accuracy: 0.5333 - val_loss: 0.6922\n",
      "Epoch 22/50\n",
      "\u001b[1m8/8\u001b[0m \u001b[32m━━━━━━━━━━━━━━━━━━━━\u001b[0m\u001b[37m\u001b[0m \u001b[1m11s\u001b[0m 1s/step - accuracy: 0.4641 - loss: 0.7319 - val_accuracy: 0.5333 - val_loss: 0.6942\n",
      "Epoch 23/50\n",
      "\u001b[1m8/8\u001b[0m \u001b[32m━━━━━━━━━━━━━━━━━━━━\u001b[0m\u001b[37m\u001b[0m \u001b[1m11s\u001b[0m 1s/step - accuracy: 0.5997 - loss: 0.6705 - val_accuracy: 0.5333 - val_loss: 0.6990\n",
      "Epoch 24/50\n",
      "\u001b[1m8/8\u001b[0m \u001b[32m━━━━━━━━━━━━━━━━━━━━\u001b[0m\u001b[37m\u001b[0m \u001b[1m11s\u001b[0m 1s/step - accuracy: 0.5076 - loss: 0.7018 - val_accuracy: 0.5333 - val_loss: 0.6950\n",
      "Epoch 25/50\n",
      "\u001b[1m8/8\u001b[0m \u001b[32m━━━━━━━━━━━━━━━━━━━━\u001b[0m\u001b[37m\u001b[0m \u001b[1m11s\u001b[0m 1s/step - accuracy: 0.5159 - loss: 0.6955 - val_accuracy: 0.5333 - val_loss: 0.6940\n",
      "Epoch 26/50\n",
      "\u001b[1m8/8\u001b[0m \u001b[32m━━━━━━━━━━━━━━━━━━━━\u001b[0m\u001b[37m\u001b[0m \u001b[1m11s\u001b[0m 1s/step - accuracy: 0.6158 - loss: 0.6870 - val_accuracy: 0.5333 - val_loss: 0.6963\n",
      "Epoch 27/50\n",
      "\u001b[1m8/8\u001b[0m \u001b[32m━━━━━━━━━━━━━━━━━━━━\u001b[0m\u001b[37m\u001b[0m \u001b[1m11s\u001b[0m 1s/step - accuracy: 0.4963 - loss: 0.7150 - val_accuracy: 0.5333 - val_loss: 0.6920\n",
      "Epoch 28/50\n",
      "\u001b[1m8/8\u001b[0m \u001b[32m━━━━━━━━━━━━━━━━━━━━\u001b[0m\u001b[37m\u001b[0m \u001b[1m11s\u001b[0m 1s/step - accuracy: 0.5272 - loss: 0.6930 - val_accuracy: 0.5333 - val_loss: 0.6954\n",
      "Epoch 29/50\n",
      "\u001b[1m8/8\u001b[0m \u001b[32m━━━━━━━━━━━━━━━━━━━━\u001b[0m\u001b[37m\u001b[0m \u001b[1m11s\u001b[0m 1s/step - accuracy: 0.5039 - loss: 0.6998 - val_accuracy: 0.5333 - val_loss: 0.6992\n",
      "Epoch 30/50\n",
      "\u001b[1m8/8\u001b[0m \u001b[32m━━━━━━━━━━━━━━━━━━━━\u001b[0m\u001b[37m\u001b[0m \u001b[1m11s\u001b[0m 1s/step - accuracy: 0.5210 - loss: 0.7203 - val_accuracy: 0.5333 - val_loss: 0.6930\n",
      "Epoch 31/50\n",
      "\u001b[1m8/8\u001b[0m \u001b[32m━━━━━━━━━━━━━━━━━━━━\u001b[0m\u001b[37m\u001b[0m \u001b[1m21s\u001b[0m 1s/step - accuracy: 0.5664 - loss: 0.6758 - val_accuracy: 0.5333 - val_loss: 0.7001\n",
      "Epoch 32/50\n",
      "\u001b[1m8/8\u001b[0m \u001b[32m━━━━━━━━━━━━━━━━━━━━\u001b[0m\u001b[37m\u001b[0m \u001b[1m11s\u001b[0m 1s/step - accuracy: 0.5547 - loss: 0.6732 - val_accuracy: 0.5333 - val_loss: 0.6943\n",
      "Epoch 33/50\n",
      "\u001b[1m8/8\u001b[0m \u001b[32m━━━━━━━━━━━━━━━━━━━━\u001b[0m\u001b[37m\u001b[0m \u001b[1m11s\u001b[0m 1s/step - accuracy: 0.5716 - loss: 0.6833 - val_accuracy: 0.5333 - val_loss: 0.6922\n",
      "Epoch 34/50\n",
      "\u001b[1m8/8\u001b[0m \u001b[32m━━━━━━━━━━━━━━━━━━━━\u001b[0m\u001b[37m\u001b[0m \u001b[1m11s\u001b[0m 1s/step - accuracy: 0.5725 - loss: 0.6992 - val_accuracy: 0.5333 - val_loss: 0.6929\n",
      "Epoch 35/50\n",
      "\u001b[1m8/8\u001b[0m \u001b[32m━━━━━━━━━━━━━━━━━━━━\u001b[0m\u001b[37m\u001b[0m \u001b[1m11s\u001b[0m 1s/step - accuracy: 0.5296 - loss: 0.6994 - val_accuracy: 0.5333 - val_loss: 0.6945\n",
      "Epoch 36/50\n",
      "\u001b[1m8/8\u001b[0m \u001b[32m━━━━━━━━━━━━━━━━━━━━\u001b[0m\u001b[37m\u001b[0m \u001b[1m11s\u001b[0m 1s/step - accuracy: 0.5826 - loss: 0.6871 - val_accuracy: 0.5333 - val_loss: 0.6932\n",
      "Epoch 37/50\n",
      "\u001b[1m8/8\u001b[0m \u001b[32m━━━━━━━━━━━━━━━━━━━━\u001b[0m\u001b[37m\u001b[0m \u001b[1m11s\u001b[0m 1s/step - accuracy: 0.5491 - loss: 0.6911 - val_accuracy: 0.5333 - val_loss: 0.6919\n",
      "Epoch 38/50\n",
      "\u001b[1m8/8\u001b[0m \u001b[32m━━━━━━━━━━━━━━━━━━━━\u001b[0m\u001b[37m\u001b[0m \u001b[1m11s\u001b[0m 1s/step - accuracy: 0.5575 - loss: 0.6849 - val_accuracy: 0.5333 - val_loss: 0.6915\n",
      "Epoch 39/50\n",
      "\u001b[1m8/8\u001b[0m \u001b[32m━━━━━━━━━━━━━━━━━━━━\u001b[0m\u001b[37m\u001b[0m \u001b[1m11s\u001b[0m 1s/step - accuracy: 0.5184 - loss: 0.7095 - val_accuracy: 0.5333 - val_loss: 0.6922\n",
      "Epoch 40/50\n",
      "\u001b[1m8/8\u001b[0m \u001b[32m━━━━━━━━━━━━━━━━━━━━\u001b[0m\u001b[37m\u001b[0m \u001b[1m11s\u001b[0m 1s/step - accuracy: 0.5421 - loss: 0.7056 - val_accuracy: 0.5333 - val_loss: 0.6950\n",
      "Epoch 41/50\n",
      "\u001b[1m8/8\u001b[0m \u001b[32m━━━━━━━━━━━━━━━━━━━━\u001b[0m\u001b[37m\u001b[0m \u001b[1m11s\u001b[0m 1s/step - accuracy: 0.5893 - loss: 0.6783 - val_accuracy: 0.5333 - val_loss: 0.6963\n",
      "Epoch 42/50\n",
      "\u001b[1m8/8\u001b[0m \u001b[32m━━━━━━━━━━━━━━━━━━━━\u001b[0m\u001b[37m\u001b[0m \u001b[1m11s\u001b[0m 1s/step - accuracy: 0.5793 - loss: 0.6965 - val_accuracy: 0.5333 - val_loss: 0.6947\n",
      "Epoch 43/50\n",
      "\u001b[1m8/8\u001b[0m \u001b[32m━━━━━━━━━━━━━━━━━━━━\u001b[0m\u001b[37m\u001b[0m \u001b[1m11s\u001b[0m 1s/step - accuracy: 0.6559 - loss: 0.6512 - val_accuracy: 0.5333 - val_loss: 0.6919\n",
      "Epoch 44/50\n",
      "\u001b[1m8/8\u001b[0m \u001b[32m━━━━━━━━━━━━━━━━━━━━\u001b[0m\u001b[37m\u001b[0m \u001b[1m11s\u001b[0m 1s/step - accuracy: 0.5225 - loss: 0.7016 - val_accuracy: 0.5333 - val_loss: 0.6921\n",
      "Epoch 45/50\n",
      "\u001b[1m8/8\u001b[0m \u001b[32m━━━━━━━━━━━━━━━━━━━━\u001b[0m\u001b[37m\u001b[0m \u001b[1m11s\u001b[0m 1s/step - accuracy: 0.5592 - loss: 0.6859 - val_accuracy: 0.5333 - val_loss: 0.6911\n",
      "Epoch 46/50\n",
      "\u001b[1m8/8\u001b[0m \u001b[32m━━━━━━━━━━━━━━━━━━━━\u001b[0m\u001b[37m\u001b[0m \u001b[1m11s\u001b[0m 1s/step - accuracy: 0.6188 - loss: 0.6749 - val_accuracy: 0.5333 - val_loss: 0.7060\n",
      "Epoch 47/50\n",
      "\u001b[1m8/8\u001b[0m \u001b[32m━━━━━━━━━━━━━━━━━━━━\u001b[0m\u001b[37m\u001b[0m \u001b[1m11s\u001b[0m 1s/step - accuracy: 0.6699 - loss: 0.6448 - val_accuracy: 0.5333 - val_loss: 0.7029\n",
      "Epoch 48/50\n",
      "\u001b[1m8/8\u001b[0m \u001b[32m━━━━━━━━━━━━━━━━━━━━\u001b[0m\u001b[37m\u001b[0m \u001b[1m11s\u001b[0m 1s/step - accuracy: 0.5707 - loss: 0.6838 - val_accuracy: 0.5333 - val_loss: 0.6909\n",
      "Epoch 49/50\n",
      "\u001b[1m8/8\u001b[0m \u001b[32m━━━━━━━━━━━━━━━━━━━━\u001b[0m\u001b[37m\u001b[0m \u001b[1m11s\u001b[0m 1s/step - accuracy: 0.5725 - loss: 0.6774 - val_accuracy: 0.5333 - val_loss: 0.6909\n",
      "Epoch 50/50\n",
      "\u001b[1m8/8\u001b[0m \u001b[32m━━━━━━━━━━━━━━━━━━━━\u001b[0m\u001b[37m\u001b[0m \u001b[1m11s\u001b[0m 1s/step - accuracy: 0.5173 - loss: 0.6816 - val_accuracy: 0.5333 - val_loss: 0.6913\n"
     ]
    },
    {
     "data": {
      "text/plain": [
       "<keras.src.callbacks.history.History at 0x1b93708e2d0>"
      ]
     },
     "execution_count": 23,
     "metadata": {},
     "output_type": "execute_result"
    }
   ],
   "source": [
    "# Prepare data for LSTM (e.g., sequences of frames)\n",
    "# X_train_lstm, X_test_lstm need to be prepared with sequences of frames\n",
    "\n",
    "# Train the model\n",
    "lstm_model.fit(X_train_lstm, y_train, epochs=50, batch_size=8, validation_split=0.2)\n"
   ]
  },
  {
   "cell_type": "markdown",
   "id": "1d0ca3a6-f4c7-4ec7-935c-d0ee2f4dff96",
   "metadata": {},
   "source": [
    "Almost 55-60"
   ]
  },
  {
   "cell_type": "code",
   "execution_count": null,
   "id": "22203f3e-43d4-4f8b-badf-ec6c1f43c767",
   "metadata": {},
   "outputs": [],
   "source": []
  },
  {
   "cell_type": "markdown",
   "id": "9f275f6b-d242-42fd-b694-09876745a734",
   "metadata": {},
   "source": [
    "### Capsule Network"
   ]
  },
  {
   "cell_type": "code",
   "execution_count": 24,
   "id": "8ec2eddf-c009-4986-8ddf-b648b4f10526",
   "metadata": {},
   "outputs": [],
   "source": [
    "from tensorflow.keras.layers import Input, Conv2D, Reshape, Dense, Lambda, TimeDistributed, Flatten, LSTM\n",
    "from tensorflow.keras.models import Model\n",
    "import tensorflow.keras.backend as K"
   ]
  },
  {
   "cell_type": "code",
   "execution_count": 25,
   "id": "046861ac-a544-4e5a-943c-2b706302696f",
   "metadata": {},
   "outputs": [],
   "source": [
    "## forcing tensorflow to use gpu\n",
    "os.environ['CUDA_VISIBLE_DEVICES'] = '-1'"
   ]
  },
  {
   "cell_type": "code",
   "execution_count": 26,
   "id": "8a409df8-1050-4e08-9717-ec5b5f3b0fa0",
   "metadata": {},
   "outputs": [
    {
     "name": "stdout",
     "output_type": "stream",
     "text": [
      "WARNING:tensorflow:From C:\\Program Files\\Drag Software\\Anaconda\\Lib\\site-packages\\keras\\src\\backend\\common\\global_state.py:82: The name tf.reset_default_graph is deprecated. Please use tf.compat.v1.reset_default_graph instead.\n",
      "\n"
     ]
    }
   ],
   "source": [
    "## clear previous session\n",
    "K.clear_session()"
   ]
  },
  {
   "cell_type": "code",
   "execution_count": 27,
   "id": "25be7527-34c5-479c-95b8-edf88015f920",
   "metadata": {},
   "outputs": [],
   "source": [
    "## custom squash function for capsule layers\n",
    "def squash(x, axis=-1):\n",
    "    s_squared_norm = K.sum(K.square(x), axis, keepdims=True)\n",
    "    scale = K.sqrt(s_squared_norm + K.epsilon())\n",
    "    return s_squared_norm / (1. + s_squared_norm) * x / scale"
   ]
  },
  {
   "cell_type": "code",
   "execution_count": null,
   "id": "1de6b9f3-c249-45c2-98b1-af5aa0c314a4",
   "metadata": {},
   "outputs": [],
   "source": []
  },
  {
   "cell_type": "code",
   "execution_count": 28,
   "id": "b2510b92-120f-4b69-b0b7-f24dfc462df9",
   "metadata": {},
   "outputs": [],
   "source": [
    "## capsule network model\n",
    "def build_capsule_network(input_shape):\n",
    "    inputs = Input(shape=input_shape)\n",
    "    conv1 = TimeDistributed(Conv2D(128, (9, 9), activation='relu'))(inputs)  # Reduced filters\n",
    "    primary_caps = TimeDistributed(Conv2D(8 * 16, (9, 9), strides=2, padding='valid'))(conv1)  # Reduced filters\n",
    "    primary_caps = TimeDistributed(Reshape((-1, 8)))(primary_caps)\n",
    "    primary_caps = TimeDistributed(Lambda(squash))(primary_caps)\n",
    "    \n",
    "    primary_caps_flat = TimeDistributed(Flatten())(primary_caps)\n",
    "    lstm_output = LSTM(50)(primary_caps_flat)\n",
    "    \n",
    "    caps_output = Dense(1, activation='sigmoid')(lstm_output)\n",
    "    \n",
    "    model = Model(inputs=inputs, outputs=caps_output)\n",
    "    model.compile(optimizer='adam', loss='binary_crossentropy', metrics=['accuracy'])\n",
    "    return model"
   ]
  },
  {
   "cell_type": "code",
   "execution_count": 29,
   "id": "02e5e947-8cfe-4820-966c-64fb7f6d5974",
   "metadata": {},
   "outputs": [],
   "source": [
    "X_train = np.random.rand(300, 128, 128, 3)  # Reduced number of frames\n",
    "y_train = np.random.randint(0, 2, size=(30,))  # Corresponding labels"
   ]
  },
  {
   "cell_type": "code",
   "execution_count": 30,
   "id": "c590d3ec-0c8e-4d02-81d5-c6e0a398542d",
   "metadata": {},
   "outputs": [],
   "source": [
    "## reshape the data into sequences of frames\n",
    "num_frames_per_sequence = 10\n",
    "num_sequences = len(X_train) // num_frames_per_sequence\n",
    "\n",
    "X_train_lstm = X_train[:num_sequences * num_frames_per_sequence].reshape(\n",
    "    (num_sequences, num_frames_per_sequence, 128, 128, 3)\n",
    ")\n",
    "\n",
    "y_train_lstm = y_train[:num_sequences]"
   ]
  },
  {
   "cell_type": "code",
   "execution_count": 31,
   "id": "6cfc282b-87f2-4d64-8bee-a896799038bf",
   "metadata": {},
   "outputs": [],
   "source": [
    "input_shape = (num_frames_per_sequence, 128, 128, 3)\n",
    "capsule_model = build_capsule_network(input_shape)"
   ]
  },
  {
   "cell_type": "code",
   "execution_count": 32,
   "id": "f49dc407-758a-41d9-b84a-c8a2458e352c",
   "metadata": {},
   "outputs": [
    {
     "data": {
      "text/html": [
       "<pre style=\"white-space:pre;overflow-x:auto;line-height:normal;font-family:Menlo,'DejaVu Sans Mono',consolas,'Courier New',monospace\"><span style=\"font-weight: bold\">Model: \"functional\"</span>\n",
       "</pre>\n"
      ],
      "text/plain": [
       "\u001b[1mModel: \"functional\"\u001b[0m\n"
      ]
     },
     "metadata": {},
     "output_type": "display_data"
    },
    {
     "data": {
      "text/html": [
       "<pre style=\"white-space:pre;overflow-x:auto;line-height:normal;font-family:Menlo,'DejaVu Sans Mono',consolas,'Courier New',monospace\">┏━━━━━━━━━━━━━━━━━━━━━━━━━━━━━━━━━━━━━━┳━━━━━━━━━━━━━━━━━━━━━━━━━━━━━┳━━━━━━━━━━━━━━━━━┓\n",
       "┃<span style=\"font-weight: bold\"> Layer (type)                         </span>┃<span style=\"font-weight: bold\"> Output Shape                </span>┃<span style=\"font-weight: bold\">         Param # </span>┃\n",
       "┡━━━━━━━━━━━━━━━━━━━━━━━━━━━━━━━━━━━━━━╇━━━━━━━━━━━━━━━━━━━━━━━━━━━━━╇━━━━━━━━━━━━━━━━━┩\n",
       "│ input_layer (<span style=\"color: #0087ff; text-decoration-color: #0087ff\">InputLayer</span>)             │ (<span style=\"color: #00d7ff; text-decoration-color: #00d7ff\">None</span>, <span style=\"color: #00af00; text-decoration-color: #00af00\">10</span>, <span style=\"color: #00af00; text-decoration-color: #00af00\">128</span>, <span style=\"color: #00af00; text-decoration-color: #00af00\">128</span>, <span style=\"color: #00af00; text-decoration-color: #00af00\">3</span>)     │               <span style=\"color: #00af00; text-decoration-color: #00af00\">0</span> │\n",
       "├──────────────────────────────────────┼─────────────────────────────┼─────────────────┤\n",
       "│ time_distributed (<span style=\"color: #0087ff; text-decoration-color: #0087ff\">TimeDistributed</span>)   │ (<span style=\"color: #00d7ff; text-decoration-color: #00d7ff\">None</span>, <span style=\"color: #00af00; text-decoration-color: #00af00\">10</span>, <span style=\"color: #00af00; text-decoration-color: #00af00\">120</span>, <span style=\"color: #00af00; text-decoration-color: #00af00\">120</span>, <span style=\"color: #00af00; text-decoration-color: #00af00\">128</span>)   │          <span style=\"color: #00af00; text-decoration-color: #00af00\">31,232</span> │\n",
       "├──────────────────────────────────────┼─────────────────────────────┼─────────────────┤\n",
       "│ time_distributed_1 (<span style=\"color: #0087ff; text-decoration-color: #0087ff\">TimeDistributed</span>) │ (<span style=\"color: #00d7ff; text-decoration-color: #00d7ff\">None</span>, <span style=\"color: #00af00; text-decoration-color: #00af00\">10</span>, <span style=\"color: #00af00; text-decoration-color: #00af00\">56</span>, <span style=\"color: #00af00; text-decoration-color: #00af00\">56</span>, <span style=\"color: #00af00; text-decoration-color: #00af00\">128</span>)     │       <span style=\"color: #00af00; text-decoration-color: #00af00\">1,327,232</span> │\n",
       "├──────────────────────────────────────┼─────────────────────────────┼─────────────────┤\n",
       "│ time_distributed_2 (<span style=\"color: #0087ff; text-decoration-color: #0087ff\">TimeDistributed</span>) │ (<span style=\"color: #00d7ff; text-decoration-color: #00d7ff\">None</span>, <span style=\"color: #00af00; text-decoration-color: #00af00\">10</span>, <span style=\"color: #00af00; text-decoration-color: #00af00\">50176</span>, <span style=\"color: #00af00; text-decoration-color: #00af00\">8</span>)        │               <span style=\"color: #00af00; text-decoration-color: #00af00\">0</span> │\n",
       "├──────────────────────────────────────┼─────────────────────────────┼─────────────────┤\n",
       "│ time_distributed_3 (<span style=\"color: #0087ff; text-decoration-color: #0087ff\">TimeDistributed</span>) │ (<span style=\"color: #00d7ff; text-decoration-color: #00d7ff\">None</span>, <span style=\"color: #00af00; text-decoration-color: #00af00\">10</span>, <span style=\"color: #00af00; text-decoration-color: #00af00\">50176</span>, <span style=\"color: #00af00; text-decoration-color: #00af00\">8</span>)        │               <span style=\"color: #00af00; text-decoration-color: #00af00\">0</span> │\n",
       "├──────────────────────────────────────┼─────────────────────────────┼─────────────────┤\n",
       "│ time_distributed_4 (<span style=\"color: #0087ff; text-decoration-color: #0087ff\">TimeDistributed</span>) │ (<span style=\"color: #00d7ff; text-decoration-color: #00d7ff\">None</span>, <span style=\"color: #00af00; text-decoration-color: #00af00\">10</span>, <span style=\"color: #00af00; text-decoration-color: #00af00\">401408</span>)          │               <span style=\"color: #00af00; text-decoration-color: #00af00\">0</span> │\n",
       "├──────────────────────────────────────┼─────────────────────────────┼─────────────────┤\n",
       "│ lstm (<span style=\"color: #0087ff; text-decoration-color: #0087ff\">LSTM</span>)                          │ (<span style=\"color: #00d7ff; text-decoration-color: #00d7ff\">None</span>, <span style=\"color: #00af00; text-decoration-color: #00af00\">50</span>)                  │      <span style=\"color: #00af00; text-decoration-color: #00af00\">80,291,800</span> │\n",
       "├──────────────────────────────────────┼─────────────────────────────┼─────────────────┤\n",
       "│ dense (<span style=\"color: #0087ff; text-decoration-color: #0087ff\">Dense</span>)                        │ (<span style=\"color: #00d7ff; text-decoration-color: #00d7ff\">None</span>, <span style=\"color: #00af00; text-decoration-color: #00af00\">1</span>)                   │              <span style=\"color: #00af00; text-decoration-color: #00af00\">51</span> │\n",
       "└──────────────────────────────────────┴─────────────────────────────┴─────────────────┘\n",
       "</pre>\n"
      ],
      "text/plain": [
       "┏━━━━━━━━━━━━━━━━━━━━━━━━━━━━━━━━━━━━━━┳━━━━━━━━━━━━━━━━━━━━━━━━━━━━━┳━━━━━━━━━━━━━━━━━┓\n",
       "┃\u001b[1m \u001b[0m\u001b[1mLayer (type)                        \u001b[0m\u001b[1m \u001b[0m┃\u001b[1m \u001b[0m\u001b[1mOutput Shape               \u001b[0m\u001b[1m \u001b[0m┃\u001b[1m \u001b[0m\u001b[1m        Param #\u001b[0m\u001b[1m \u001b[0m┃\n",
       "┡━━━━━━━━━━━━━━━━━━━━━━━━━━━━━━━━━━━━━━╇━━━━━━━━━━━━━━━━━━━━━━━━━━━━━╇━━━━━━━━━━━━━━━━━┩\n",
       "│ input_layer (\u001b[38;5;33mInputLayer\u001b[0m)             │ (\u001b[38;5;45mNone\u001b[0m, \u001b[38;5;34m10\u001b[0m, \u001b[38;5;34m128\u001b[0m, \u001b[38;5;34m128\u001b[0m, \u001b[38;5;34m3\u001b[0m)     │               \u001b[38;5;34m0\u001b[0m │\n",
       "├──────────────────────────────────────┼─────────────────────────────┼─────────────────┤\n",
       "│ time_distributed (\u001b[38;5;33mTimeDistributed\u001b[0m)   │ (\u001b[38;5;45mNone\u001b[0m, \u001b[38;5;34m10\u001b[0m, \u001b[38;5;34m120\u001b[0m, \u001b[38;5;34m120\u001b[0m, \u001b[38;5;34m128\u001b[0m)   │          \u001b[38;5;34m31,232\u001b[0m │\n",
       "├──────────────────────────────────────┼─────────────────────────────┼─────────────────┤\n",
       "│ time_distributed_1 (\u001b[38;5;33mTimeDistributed\u001b[0m) │ (\u001b[38;5;45mNone\u001b[0m, \u001b[38;5;34m10\u001b[0m, \u001b[38;5;34m56\u001b[0m, \u001b[38;5;34m56\u001b[0m, \u001b[38;5;34m128\u001b[0m)     │       \u001b[38;5;34m1,327,232\u001b[0m │\n",
       "├──────────────────────────────────────┼─────────────────────────────┼─────────────────┤\n",
       "│ time_distributed_2 (\u001b[38;5;33mTimeDistributed\u001b[0m) │ (\u001b[38;5;45mNone\u001b[0m, \u001b[38;5;34m10\u001b[0m, \u001b[38;5;34m50176\u001b[0m, \u001b[38;5;34m8\u001b[0m)        │               \u001b[38;5;34m0\u001b[0m │\n",
       "├──────────────────────────────────────┼─────────────────────────────┼─────────────────┤\n",
       "│ time_distributed_3 (\u001b[38;5;33mTimeDistributed\u001b[0m) │ (\u001b[38;5;45mNone\u001b[0m, \u001b[38;5;34m10\u001b[0m, \u001b[38;5;34m50176\u001b[0m, \u001b[38;5;34m8\u001b[0m)        │               \u001b[38;5;34m0\u001b[0m │\n",
       "├──────────────────────────────────────┼─────────────────────────────┼─────────────────┤\n",
       "│ time_distributed_4 (\u001b[38;5;33mTimeDistributed\u001b[0m) │ (\u001b[38;5;45mNone\u001b[0m, \u001b[38;5;34m10\u001b[0m, \u001b[38;5;34m401408\u001b[0m)          │               \u001b[38;5;34m0\u001b[0m │\n",
       "├──────────────────────────────────────┼─────────────────────────────┼─────────────────┤\n",
       "│ lstm (\u001b[38;5;33mLSTM\u001b[0m)                          │ (\u001b[38;5;45mNone\u001b[0m, \u001b[38;5;34m50\u001b[0m)                  │      \u001b[38;5;34m80,291,800\u001b[0m │\n",
       "├──────────────────────────────────────┼─────────────────────────────┼─────────────────┤\n",
       "│ dense (\u001b[38;5;33mDense\u001b[0m)                        │ (\u001b[38;5;45mNone\u001b[0m, \u001b[38;5;34m1\u001b[0m)                   │              \u001b[38;5;34m51\u001b[0m │\n",
       "└──────────────────────────────────────┴─────────────────────────────┴─────────────────┘\n"
      ]
     },
     "metadata": {},
     "output_type": "display_data"
    },
    {
     "data": {
      "text/html": [
       "<pre style=\"white-space:pre;overflow-x:auto;line-height:normal;font-family:Menlo,'DejaVu Sans Mono',consolas,'Courier New',monospace\"><span style=\"font-weight: bold\"> Total params: </span><span style=\"color: #00af00; text-decoration-color: #00af00\">81,650,315</span> (311.47 MB)\n",
       "</pre>\n"
      ],
      "text/plain": [
       "\u001b[1m Total params: \u001b[0m\u001b[38;5;34m81,650,315\u001b[0m (311.47 MB)\n"
      ]
     },
     "metadata": {},
     "output_type": "display_data"
    },
    {
     "data": {
      "text/html": [
       "<pre style=\"white-space:pre;overflow-x:auto;line-height:normal;font-family:Menlo,'DejaVu Sans Mono',consolas,'Courier New',monospace\"><span style=\"font-weight: bold\"> Trainable params: </span><span style=\"color: #00af00; text-decoration-color: #00af00\">81,650,315</span> (311.47 MB)\n",
       "</pre>\n"
      ],
      "text/plain": [
       "\u001b[1m Trainable params: \u001b[0m\u001b[38;5;34m81,650,315\u001b[0m (311.47 MB)\n"
      ]
     },
     "metadata": {},
     "output_type": "display_data"
    },
    {
     "data": {
      "text/html": [
       "<pre style=\"white-space:pre;overflow-x:auto;line-height:normal;font-family:Menlo,'DejaVu Sans Mono',consolas,'Courier New',monospace\"><span style=\"font-weight: bold\"> Non-trainable params: </span><span style=\"color: #00af00; text-decoration-color: #00af00\">0</span> (0.00 B)\n",
       "</pre>\n"
      ],
      "text/plain": [
       "\u001b[1m Non-trainable params: \u001b[0m\u001b[38;5;34m0\u001b[0m (0.00 B)\n"
      ]
     },
     "metadata": {},
     "output_type": "display_data"
    }
   ],
   "source": [
    "capsule_model.summary()"
   ]
  },
  {
   "cell_type": "code",
   "execution_count": null,
   "id": "ca6ab4c4-d3e4-40eb-a41b-2a5ec3453873",
   "metadata": {},
   "outputs": [
    {
     "name": "stdout",
     "output_type": "stream",
     "text": [
      "Epoch 1/50\n",
      "\u001b[1m3/3\u001b[0m \u001b[32m━━━━━━━━━━━━━━━━━━━━\u001b[0m\u001b[37m\u001b[0m \u001b[1m47s\u001b[0m 14s/step - accuracy: 0.3854 - loss: 1.1657 - val_accuracy: 0.6667 - val_loss: 0.6366\n",
      "Epoch 2/50\n",
      "\u001b[1m3/3\u001b[0m \u001b[32m━━━━━━━━━━━━━━━━━━━━\u001b[0m\u001b[37m\u001b[0m \u001b[1m38s\u001b[0m 13s/step - accuracy: 0.5625 - loss: 0.7134 - val_accuracy: 0.6667 - val_loss: 0.6423\n",
      "Epoch 3/50\n",
      "\u001b[1m3/3\u001b[0m \u001b[32m━━━━━━━━━━━━━━━━━━━━\u001b[0m\u001b[37m\u001b[0m \u001b[1m37s\u001b[0m 13s/step - accuracy: 0.5938 - loss: 0.6969 - val_accuracy: 0.6667 - val_loss: 0.6366\n",
      "Epoch 4/50\n",
      "\u001b[1m3/3\u001b[0m \u001b[32m━━━━━━━━━━━━━━━━━━━━\u001b[0m\u001b[37m\u001b[0m \u001b[1m37s\u001b[0m 13s/step - accuracy: 0.6250 - loss: 0.6664 - val_accuracy: 0.6667 - val_loss: 0.6366\n",
      "Epoch 5/50\n",
      "\u001b[1m3/3\u001b[0m \u001b[32m━━━━━━━━━━━━━━━━━━━━\u001b[0m\u001b[37m\u001b[0m \u001b[1m37s\u001b[0m 13s/step - accuracy: 0.5781 - loss: 0.6997 - val_accuracy: 0.6667 - val_loss: 0.6365\n",
      "Epoch 6/50\n",
      "\u001b[1m3/3\u001b[0m \u001b[32m━━━━━━━━━━━━━━━━━━━━\u001b[0m\u001b[37m\u001b[0m \u001b[1m38s\u001b[0m 13s/step - accuracy: 0.5469 - loss: 0.7213 - val_accuracy: 0.6667 - val_loss: 0.6365\n",
      "Epoch 7/50\n",
      "\u001b[1m3/3\u001b[0m \u001b[32m━━━━━━━━━━━━━━━━━━━━\u001b[0m\u001b[37m\u001b[0m \u001b[1m38s\u001b[0m 13s/step - accuracy: 0.6406 - loss: 0.6547 - val_accuracy: 0.6667 - val_loss: 0.6365\n",
      "Epoch 8/50\n",
      "\u001b[1m3/3\u001b[0m \u001b[32m━━━━━━━━━━━━━━━━━━━━\u001b[0m\u001b[37m\u001b[0m \u001b[1m37s\u001b[0m 13s/step - accuracy: 0.6406 - loss: 0.6546 - val_accuracy: 0.6667 - val_loss: 0.6365\n",
      "Epoch 9/50\n",
      "\u001b[1m3/3\u001b[0m \u001b[32m━━━━━━━━━━━━━━━━━━━━\u001b[0m\u001b[37m\u001b[0m \u001b[1m38s\u001b[0m 13s/step - accuracy: 0.6250 - loss: 0.6653 - val_accuracy: 0.6667 - val_loss: 0.6365\n",
      "Epoch 10/50\n",
      "\u001b[1m3/3\u001b[0m \u001b[32m━━━━━━━━━━━━━━━━━━━━\u001b[0m\u001b[37m\u001b[0m \u001b[1m37s\u001b[0m 13s/step - accuracy: 0.6719 - loss: 0.6329 - val_accuracy: 0.6667 - val_loss: 0.6365\n",
      "Epoch 11/50\n",
      "\u001b[1m3/3\u001b[0m \u001b[32m━━━━━━━━━━━━━━━━━━━━\u001b[0m\u001b[37m\u001b[0m \u001b[1m38s\u001b[0m 13s/step - accuracy: 0.6406 - loss: 0.6543 - val_accuracy: 0.6667 - val_loss: 0.6365\n",
      "Epoch 12/50\n"
     ]
    }
   ],
   "source": [
    "capsule_model.fit(X_train_lstm, y_train_lstm, epochs=50, batch_size=8, validation_split=0.2)"
   ]
  },
  {
   "cell_type": "code",
   "execution_count": null,
   "id": "00ded1c2-7cad-4715-8560-ceb68695af56",
   "metadata": {},
   "outputs": [],
   "source": [
    "# model evalution\n",
    "loss, accuracy = capsule_model.evaluate(X_train_lstm, y_train_lstm)\n",
    "print(f'Cnn Model Test Accuracy: {accuracy}')"
   ]
  },
  {
   "cell_type": "code",
   "execution_count": null,
   "id": "a96ad318-c30e-4687-9043-458573ef3244",
   "metadata": {},
   "outputs": [],
   "source": []
  },
  {
   "cell_type": "markdown",
   "id": "c2b92bf3-3e42-468c-b01c-471fe864c57e",
   "metadata": {},
   "source": [
    "### Gans"
   ]
  },
  {
   "cell_type": "code",
   "execution_count": null,
   "id": "1e508d75-e294-405e-b0cb-87b9c9361c9e",
   "metadata": {},
   "outputs": [],
   "source": [
    "from tensorflow.keras.models import Sequential\n",
    "from tensorflow.keras.layers import Conv2D, Flatten, Dense, LeakyReLU, Dropout"
   ]
  },
  {
   "cell_type": "markdown",
   "id": "8fe55130-8e76-4938-bd44-1576ac701149",
   "metadata": {},
   "source": [
    "### Generator Model"
   ]
  },
  {
   "cell_type": "code",
   "execution_count": null,
   "id": "8be762d6-d434-443a-8cc0-44ea86609778",
   "metadata": {},
   "outputs": [],
   "source": [
    "latent_dim = 50  # Example latent dimension\n",
    "\n",
    "# Example generator model that outputs (128, 128, 3) images\n",
    "def build_generator(latent_dim):\n",
    "    model = Sequential()\n",
    "    model.add(Dense(16 * 16 * 256, input_dim=latent_dim))\n",
    "    model.add(Reshape((16, 16, 256)))\n",
    "    model.add(LeakyReLU(alpha=0.2))\n",
    "    model.add(Conv2DTranspose(128, (4, 4), strides=(2, 2), padding='same'))\n",
    "    model.add(LeakyReLU(alpha=0.2))\n",
    "    model.add(Conv2DTranspose(64, (4, 4), strides=(2, 2), padding='same'))\n",
    "    model.add(LeakyReLU(alpha=0.2))\n",
    "    model.add(Conv2DTranspose(3, (4, 4), strides=(2, 2), padding='same', activation='tanh'))  # (128, 128, 3)\n",
    "    return model"
   ]
  },
  {
   "cell_type": "code",
   "execution_count": null,
   "id": "fe38363d-4dbc-463b-b080-d0adbf60bf1d",
   "metadata": {},
   "outputs": [],
   "source": [
    "# Updated discriminator to accept (128, 128, 3) input shape\n",
    "def build_discriminator(input_shape=(128, 128, 3)):\n",
    "    model = Sequential()\n",
    "    model.add(Conv2D(64, (3, 3), padding='same', input_shape=input_shape))\n",
    "    model.add(LeakyReLU(alpha=0.2))\n",
    "    model.add(Flatten())\n",
    "    model.add(Dense(1, activation='sigmoid'))\n",
    "    return model\n"
   ]
  },
  {
   "cell_type": "code",
   "execution_count": null,
   "id": "fdec9fb2-9228-4ea9-b1f5-b73daa434cd4",
   "metadata": {},
   "outputs": [],
   "source": [
    "from tensorflow.keras.layers import Dense, Reshape, Conv2DTranspose, BatchNormalization, Activation"
   ]
  },
  {
   "cell_type": "code",
   "execution_count": null,
   "id": "4ebac7f0-be79-43df-87a5-eb81ffe21714",
   "metadata": {},
   "outputs": [],
   "source": [
    "# Build the generator and discriminator\n",
    "generator = build_generator(latent_dim)\n",
    "discriminator = build_discriminator(input_shape=(128, 128, 3))"
   ]
  },
  {
   "cell_type": "code",
   "execution_count": null,
   "id": "3ef47a9c-55e5-451a-8a49-5f1cda20477a",
   "metadata": {},
   "outputs": [],
   "source": [
    "# Build the GAN\n",
    "gan = build_gan(generator, discriminator)"
   ]
  },
  {
   "cell_type": "code",
   "execution_count": null,
   "id": "4b7ed769-6f35-4d37-9198-798c289ebc2c",
   "metadata": {},
   "outputs": [],
   "source": [
    "gan.summary()\n"
   ]
  },
  {
   "cell_type": "code",
   "execution_count": null,
   "id": "70bac72d-5894-41ea-8211-880d68e5cd41",
   "metadata": {},
   "outputs": [],
   "source": []
  },
  {
   "cell_type": "code",
   "execution_count": null,
   "id": "f6540fbc-1289-4d9a-b975-206802078ff4",
   "metadata": {},
   "outputs": [],
   "source": [
    "from tensorflow.keras.models import Model\n",
    "from tensorflow.keras.layers import Input\n",
    "\n",
    "def build_gan(generator, discriminator):\n",
    "    discriminator.trainable = False\n",
    "    gan_input = Input(shape=(latent_dim,))\n",
    "    img = generator(gan_input)\n",
    "    gan_output = discriminator(img)\n",
    "    gan = Model(gan_input, gan_output)\n",
    "    gan.compile(optimizer='adam', loss='binary_crossentropy')\n",
    "    return gan\n",
    "\n",
    "gan = build_gan(generator, discriminator)\n"
   ]
  },
  {
   "cell_type": "code",
   "execution_count": null,
   "id": "7325b396-c4c3-46f3-85e2-5f0072314ea3",
   "metadata": {},
   "outputs": [],
   "source": [
    "gan.summary()"
   ]
  },
  {
   "cell_type": "code",
   "execution_count": null,
   "id": "f258e4e6-7dd8-4ba7-a3f9-ac78d97ac058",
   "metadata": {},
   "outputs": [],
   "source": [
    "## training of gans"
   ]
  },
  {
   "cell_type": "code",
   "execution_count": null,
   "id": "76660804-a64b-41cc-aec7-e473f7332df4",
   "metadata": {},
   "outputs": [],
   "source": [
    "# Compile the discriminator\n",
    "discriminator.compile(optimizer='adam', loss='binary_crossentropy', metrics=['accuracy'])\n",
    "\n",
    "# Compile the GAN (keep the discriminator non-trainable during GAN training)\n",
    "gan = build_gan(generator, discriminator)\n",
    "gan.compile(optimizer='adam', loss='binary_crossentropy')\n"
   ]
  },
  {
   "cell_type": "code",
   "execution_count": null,
   "id": "8f7be7b7-9b51-42a2-9834-62f6a3bf4976",
   "metadata": {},
   "outputs": [],
   "source": [
    "def train_gan(gan, generator, discriminator, X_train, latent_dim, n_epochs=10000, n_batch=64, eval_interval=200):\n",
    "    batch_per_epoch = X_train.shape[0] // n_batch\n",
    "    half_batch\n"
   ]
  },
  {
   "cell_type": "code",
   "execution_count": null,
   "id": "81f6b4dc-078d-42c2-bf8e-b231a86c129d",
   "metadata": {},
   "outputs": [],
   "source": [
    "import matplotlib.pyplot as plt\n",
    "\n",
    "def generate_real_samples(X_train, n_samples):\n",
    "    idx = np.random.randint(0, X_train.shape[0], n_samples)\n",
    "    X = X_train[idx]\n",
    "    y = np.ones((n_samples, 1))\n",
    "    return X, y\n",
    "\n",
    "def generate_fake_samples(generator, latent_dim, n_samples):\n",
    "    x_input = np.random.randn(latent_dim * n_samples)\n",
    "    x_input = x_input.reshape(n_samples, latent_dim)\n",
    "    X = generator.predict(x_input)\n",
    "    y = np.zeros((n_samples, 1))\n",
    "    return X, y\n",
    "\n",
    "def save_plot(examples, epoch, n=10):\n",
    "    examples = (examples + 1) / 2.0  # scale from [-1,1] to [0,1]\n",
    "    for i in range(n * n):\n",
    "        plt.subplot(n, n, 1 + i)\n",
    "        plt.axis('off')\n",
    "        plt.imshow(examples[i])\n",
    "    plt.savefig(f\"generated_plot_e{epoch+1}.png\")\n",
    "    plt.close()\n",
    "\n",
    "def train_gan(gan, generator, discriminator, X_train, latent_dim, n_epochs=10000, n_batch=64, eval_interval=200):\n",
    "    batch_per_epoch = X_train.shape[0] // n_batch\n",
    "    half_batch = n_batch // 2\n",
    "    \n",
    "    for epoch in range(n_epochs):\n",
    "        for _ in range(batch_per_epoch):\n",
    "            X_real, y_real = generate_real_samples(X_train, half_batch)\n",
    "            X_fake, y_fake = generate_fake_samples(generator, latent_dim, half_batch)\n",
    "            d_loss_real = discriminator.train_on_batch(X_real, y_real)\n",
    "            d_loss_fake = discriminator.train_on_batch(X_fake, y_fake)\n",
    "            \n",
    "            x_gan = np.random.randn(latent_dim * n_batch)\n",
    "            x_gan = x_gan.reshape(n_batch, latent_dim)\n",
    "            y_gan = np.ones((n_batch, 1))\n",
    "            g_loss = gan.train_on_batch(x_gan, y_gan)\n",
    "        \n",
    "        if (epoch + 1) % eval_interval == 0:\n",
    "            print(f\"Epoch {epoch + 1}/{n_epochs} - D loss: {d_loss_real + d_loss_fake}, G loss: {g_loss}\")\n",
    "            X_fake, _ = generate_fake_samples(generator, latent_dim, 25)\n",
    "            save_plot(X_fake, epoch)\n",
    "\n",
    "train_gan(gan, generator, discriminator, X_train, latent_dim)\n"
   ]
  },
  {
   "cell_type": "code",
   "execution_count": null,
   "id": "1202594e-779c-478a-8cb9-0a915a4cd2cb",
   "metadata": {},
   "outputs": [],
   "source": []
  },
  {
   "cell_type": "code",
   "execution_count": null,
   "id": "9e9933ba-3d73-42bb-8483-99b20135cd67",
   "metadata": {},
   "outputs": [],
   "source": [
    "## evalution \n",
    "d_loss_real, d_acc_real = discriminator.evaluate(X_test, np.ones((X_test.shape[0], 1)))\n",
    "X_fake, y_fake = generate_fake_samples(generator, latent_dim, X_test.shape[0])\n",
    "d_loss_fake, d_acc_fake = discriminator.evaluate(X_fake, np.zeros((X_test.shape[0], 1)))\n",
    "\n",
    "print(f\"Discriminator on Real Data - Loss: {d_loss_real}, Accuracy: {d_acc_real}\")\n",
    "print(f\"Discriminator on Fake Data - Loss: {d_loss_fake}, Accuracy: {d_acc_fake}\")\n"
   ]
  },
  {
   "cell_type": "code",
   "execution_count": null,
   "id": "7d2ad732-10d0-475d-8bb8-fefbf9fe9603",
   "metadata": {},
   "outputs": [],
   "source": []
  },
  {
   "cell_type": "markdown",
   "id": "cc4a0d3e-cae5-4277-9854-adf346b77a41",
   "metadata": {},
   "source": [
    "### Final evalution of all models"
   ]
  },
  {
   "cell_type": "code",
   "execution_count": null,
   "id": "b1eceec2-6019-494c-8e1f-0924b76f67fe",
   "metadata": {},
   "outputs": [],
   "source": [
    "from sklearn.metrics import classification_report, confusion_matrix\n",
    "\n",
    "## CNN Evaluation\n",
    "cnn_loss, cnn_accuracy = cnn_model.evaluate(X_test, y_test)\n",
    "print(f\"CNN Loss: {cnn_loss}, Accuracy: {cnn_accuracy}\")\n",
    "\n",
    "## LSTM Evaluation\n",
    "lstm_loss, lstm_accuracy = lstm_model.evaluate(X_test_lstm, y_test_lstm)\n",
    "print(f\"LSTM Loss: {lstm_loss}, Accuracy: {lstm_accuracy}\")\n",
    "\n",
    "## capsule Network Evaluation\n",
    "capsule_loss, capsule_accuracy = capsule_model.evaluate(X_test, y_test)\n",
    "print(f\"Capsule Network Loss: {capsule_loss}, Accuracy: {capsule_accuracy}\")\n",
    "\n",
    "## classification Report and Confusion Matrix\n",
    "y_pred_cnn = (cnn_model.predict(X_test) > 0.5).astype(\"int32\")\n",
    "y_pred_lstm = (lstm_model.predict(X_test_lstm) > 0.5).astype(\"int32\")\n",
    "y_pred_capsule = (capsule_model.predict(X_test) > 0.5).astype(\"int32\")\n",
    "\n",
    "print(\"CNN Classification Report:\\n\", classification_report(y_test, y_pred_cnn))\n",
    "print(\"CNN Confusion Matrix:\\n\", confusion_matrix(y_test, y_pred_cnn))\n",
    "\n",
    "print(\"LSTM Classification Report:\\n\", classification_report(y_test_lstm, y_pred_lstm))\n",
    "print(\"LSTM Confusion Matrix:\\n\", confusion_matrix(y_test_lstm, y_pred_lstm))\n",
    "\n",
    "print(\"Capsule Network Classification Report:\\n\", classification_report(y_test, y_pred_capsule))\n",
    "print(\"Capsule Network Confusion Matrix:\\n\", confusion_matrix(y_test, y_pred_capsule))\n"
   ]
  },
  {
   "cell_type": "code",
   "execution_count": null,
   "id": "0997aecc-b1ef-4c34-84c4-f88fd8d79841",
   "metadata": {},
   "outputs": [],
   "source": []
  },
  {
   "cell_type": "code",
   "execution_count": null,
   "id": "78752936-3c99-4415-8597-1b0ca8696dea",
   "metadata": {},
   "outputs": [],
   "source": []
  },
  {
   "cell_type": "code",
   "execution_count": null,
   "id": "ac7cdcae-702c-4f85-9770-a302e3a39b82",
   "metadata": {},
   "outputs": [],
   "source": []
  },
  {
   "cell_type": "code",
   "execution_count": null,
   "id": "36595c4f-204b-4375-88ec-e4a9415675ff",
   "metadata": {},
   "outputs": [],
   "source": []
  },
  {
   "cell_type": "code",
   "execution_count": null,
   "id": "dc08d428-706b-4e85-bbe6-27b1a498cfc8",
   "metadata": {},
   "outputs": [],
   "source": []
  },
  {
   "cell_type": "code",
   "execution_count": null,
   "id": "0a8bf726-4d66-4c09-8992-e7066801380f",
   "metadata": {},
   "outputs": [],
   "source": []
  },
  {
   "cell_type": "code",
   "execution_count": null,
   "id": "e2438ef9-6b54-4c22-98ed-8e64a49e5205",
   "metadata": {},
   "outputs": [],
   "source": []
  },
  {
   "cell_type": "code",
   "execution_count": null,
   "id": "09e77a7c-19d6-4058-986f-5cf5c141734e",
   "metadata": {},
   "outputs": [],
   "source": []
  },
  {
   "cell_type": "code",
   "execution_count": null,
   "id": "977ce89e-5d23-41cc-86e5-1433662fb5a3",
   "metadata": {},
   "outputs": [],
   "source": []
  },
  {
   "cell_type": "code",
   "execution_count": null,
   "id": "876c7c08-41f0-4e41-8eba-fb09ac085b8d",
   "metadata": {},
   "outputs": [],
   "source": []
  },
  {
   "cell_type": "code",
   "execution_count": null,
   "id": "976f1db3-a1e4-43b8-84dd-c8cabf9fec0f",
   "metadata": {},
   "outputs": [],
   "source": []
  },
  {
   "cell_type": "code",
   "execution_count": null,
   "id": "ca41a0fe-650e-4e7c-8341-c1755316131f",
   "metadata": {},
   "outputs": [],
   "source": []
  },
  {
   "cell_type": "code",
   "execution_count": null,
   "id": "6c42b138-5538-4504-a97e-b173101b9d90",
   "metadata": {},
   "outputs": [],
   "source": []
  },
  {
   "cell_type": "code",
   "execution_count": null,
   "id": "e99e59e2-1298-489a-8dc1-ce4826b4d10d",
   "metadata": {},
   "outputs": [],
   "source": []
  },
  {
   "cell_type": "code",
   "execution_count": null,
   "id": "e0efbfde-91c8-456a-a769-272ab2042b10",
   "metadata": {},
   "outputs": [],
   "source": []
  },
  {
   "cell_type": "code",
   "execution_count": null,
   "id": "7ddb1bc6-695a-4c2e-978f-7ff6fd634999",
   "metadata": {},
   "outputs": [],
   "source": []
  },
  {
   "cell_type": "code",
   "execution_count": null,
   "id": "b73c117f-d664-474f-97c7-afc797e88964",
   "metadata": {},
   "outputs": [],
   "source": []
  },
  {
   "cell_type": "code",
   "execution_count": null,
   "id": "e398c855-3ce0-4684-9811-1bc7560bad5a",
   "metadata": {},
   "outputs": [],
   "source": []
  },
  {
   "cell_type": "code",
   "execution_count": null,
   "id": "a62f331e-c38f-43b2-92fe-1fa775bf01d4",
   "metadata": {},
   "outputs": [],
   "source": []
  },
  {
   "cell_type": "code",
   "execution_count": null,
   "id": "6d689592-3140-46db-a249-40b0339dd02a",
   "metadata": {},
   "outputs": [],
   "source": []
  },
  {
   "cell_type": "code",
   "execution_count": null,
   "id": "6a113fbf-ac4e-4447-8538-fd65d30faaef",
   "metadata": {},
   "outputs": [],
   "source": []
  },
  {
   "cell_type": "code",
   "execution_count": null,
   "id": "5dde740c-3baf-439f-bb8e-15df81876ddb",
   "metadata": {},
   "outputs": [],
   "source": []
  },
  {
   "cell_type": "code",
   "execution_count": null,
   "id": "75d33211-a946-4160-a2b2-ae97ac6bce8f",
   "metadata": {},
   "outputs": [],
   "source": []
  },
  {
   "cell_type": "code",
   "execution_count": null,
   "id": "61c90d07-000f-4db0-b104-0e1d74b92603",
   "metadata": {},
   "outputs": [],
   "source": []
  }
 ],
 "metadata": {
  "kernelspec": {
   "display_name": "Python 3 (ipykernel)",
   "language": "python",
   "name": "python3"
  },
  "language_info": {
   "codemirror_mode": {
    "name": "ipython",
    "version": 3
   },
   "file_extension": ".py",
   "mimetype": "text/x-python",
   "name": "python",
   "nbconvert_exporter": "python",
   "pygments_lexer": "ipython3",
   "version": "3.12.4"
  }
 },
 "nbformat": 4,
 "nbformat_minor": 5
}
